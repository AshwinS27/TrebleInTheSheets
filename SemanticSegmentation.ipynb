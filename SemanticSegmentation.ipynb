{
 "cells": [
  {
   "cell_type": "markdown",
   "metadata": {
    "id": "DgWlyYejDwBF"
   },
   "source": [
    "# EECS 442 Assignment 5(3): Semantic Segmentaion\n",
    "In this part, you will design and implement your Convolutional Neural Networks to perform semantic segmentation on the Microsoft Research in Cambridge (MSRC) image understanding v2 dataset.\n",
    "\n",
    "Before we start, please put your name and UMID in following format\n",
    "\n",
    ": Firstname LASTNAME, #00000000   //   e.g.) David FOUHEY, #12345678"
   ]
  },
  {
   "cell_type": "markdown",
   "metadata": {
    "id": "E54t0DTZDzpl"
   },
   "source": [
    "**Your Answer:**   \n",
    "Andrew SCHEFFER #88550453"
   ]
  },
  {
   "cell_type": "markdown",
   "metadata": {
    "id": "oFgib63vLvfU"
   },
   "source": [
    "## Setup\n",
    "First, we will install some required packages for this notebook and download the MSRC-v2 Image dataset. \n"
   ]
  },
  {
   "cell_type": "code",
   "execution_count": 1,
   "metadata": {
    "colab": {
     "base_uri": "https://localhost:8080/"
    },
    "id": "wDEtIQjnEWN5",
    "outputId": "dc9bbc04-61c5-4b51-a1ea-3944676f170f"
   },
   "outputs": [
    {
     "name": "stdout",
     "output_type": "stream",
     "text": [
      "Requirement already satisfied: colormap in /Users/drewscheffer/opt/anaconda3/lib/python3.8/site-packages (1.0.4)\n",
      "Requirement already satisfied: easydev in /Users/drewscheffer/opt/anaconda3/lib/python3.8/site-packages (0.12.0)\n",
      "Requirement already satisfied: pypng in /Users/drewscheffer/opt/anaconda3/lib/python3.8/site-packages (0.0.21)\n",
      "Requirement already satisfied: torchsummary in /Users/drewscheffer/opt/anaconda3/lib/python3.8/site-packages (1.5.1)\n",
      "Requirement already satisfied: colorlog in /Users/drewscheffer/opt/anaconda3/lib/python3.8/site-packages (from easydev) (6.6.0)\n",
      "Requirement already satisfied: colorama in /Users/drewscheffer/opt/anaconda3/lib/python3.8/site-packages (from easydev) (0.4.3)\n",
      "Requirement already satisfied: pexpect in /Users/drewscheffer/opt/anaconda3/lib/python3.8/site-packages (from easydev) (4.8.0)\n",
      "Requirement already satisfied: ptyprocess>=0.5 in /Users/drewscheffer/opt/anaconda3/lib/python3.8/site-packages (from pexpect->easydev) (0.6.0)\n"
     ]
    }
   ],
   "source": [
    "# install required packages and download the dataset\n",
    "# Run the command in the terminal if it failed on local Jupyter Notebook, remove \"!\" before each line\n",
    "!pip install colormap easydev pypng torchsummary"
   ]
  },
  {
   "cell_type": "code",
   "execution_count": 2,
   "metadata": {
    "id": "szOGZTMpDXFa"
   },
   "outputs": [],
   "source": [
    "import os\n",
    "import time\n",
    "import json\n",
    "import random\n",
    "import cv2\n",
    "import matplotlib.pyplot as plt\n",
    "import numpy as np\n",
    "import png\n",
    "import torch\n",
    "import torch.nn as nn\n",
    "import torch.optim as optim\n",
    "from torchsummary import summary\n",
    "from PIL import Image\n",
    "import torchvision\n",
    "from colormap.colors import Color, hex2rgb\n",
    "from sklearn.metrics import average_precision_score as ap_score\n",
    "from torch.utils.data import DataLoader\n",
    "from torchvision import datasets, models, transforms\n",
    "from torch.utils.data.dataset import Dataset\n",
    "from tqdm import tqdm"
   ]
  },
  {
   "cell_type": "code",
   "execution_count": 3,
   "metadata": {
    "colab": {
     "base_uri": "https://localhost:8080/"
    },
    "id": "lZiuefySEJ6J",
    "outputId": "b49d569d-811e-4691-9bab-a526c516210f"
   },
   "outputs": [
    {
     "name": "stdout",
     "output_type": "stream",
     "text": [
      "Using the CPU. Overall speed will be slowed down\n"
     ]
    }
   ],
   "source": [
    "if torch.cuda.is_available():\n",
    "    print(\"Using the GPU. You are good to go!\")\n",
    "    device = 'cuda'\n",
    "else:\n",
    "    print(\"Using the CPU. Overall speed will be slowed down\")\n",
    "    device = 'cpu'"
   ]
  },
  {
   "cell_type": "markdown",
   "metadata": {
    "id": "RwWirxVjELJ2"
   },
   "source": [
    "## Dataset\n",
    "We will create a custom Dataset function for the MSRC-v2 dataset. You don't have to change anything here."
   ]
  },
  {
   "cell_type": "code",
   "execution_count": 5,
   "metadata": {},
   "outputs": [],
   "source": [
    "N_CLASS = 4\n",
    "\n",
    "class DeepScoresDataset(Dataset):\n",
    "    def __init__(self, split, \n",
    "                 split_path=\"ds2_dense/split.json\",\n",
    "                 one_hot=False):\n",
    "        super().__init__()\n",
    "        self.one_hot = one_hot\n",
    "        img_folder = 'ds2_dense/Images_small'\n",
    "        mask_folder = 'ds2_dense/GroundTruth_small'\n",
    "        GTQ_folder = 'ds2_dense/GT_Quantize_small'\n",
    "        \n",
    "        self.dataset = json.load(open(split_path, 'r'))[split]\n",
    "        \n",
    "        self.group2label_idx = {'void': 0, 'lineNote': 1, 'quarterRest': 2, 'clef': 3}\n",
    "        \n",
    "        self.img_list = [data[0] for data in self.dataset] #These are file names\n",
    "        self.mask_list = [data[1] for data in self.dataset] #These are file names\n",
    "        GTQ_list = [data[2] for data in self.dataset] #These are file names\n",
    "        self.imgs = [np.array(Image.open(os.path.join(img_folder, img))) \n",
    "                     for img in self.img_list]\n",
    "        self.masks = [np.array(Image.open(os.path.join(mask_folder, mask))) \n",
    "                      for mask in self.mask_list]\n",
    "        self.q_masks = [np.load(os.path.join(GTQ_folder, gtq))\n",
    "                        for gtq in GTQ_list]\n",
    "            \n",
    "        self.transform = transforms.Compose([\n",
    "            transforms.Resize((400, 400))\n",
    "        ])\n",
    "\n",
    "    @staticmethod\n",
    "    def rgb2str(rgb): return f\"{rgb[0]},{rgb[1]},{rgb[2]}\"\n",
    "\n",
    "    @staticmethod\n",
    "    def str2rgb(string): return [int(v) for v in string.split(',')]\n",
    "        \n",
    "    def __len__(self):\n",
    "        return len(self.dataset)\n",
    "    \n",
    "    def __getitem__(self, idx):\n",
    "        img = torch.FloatTensor(self.imgs[idx]).permute(2, 0, 1)\n",
    "        qmask = torch.LongTensor(self.q_masks[idx])[None, :, :]\n",
    "        qmask = self.transform(qmask).squeeze()\n",
    "        if self.one_hot:\n",
    "            H, W = qmask.shape\n",
    "            qmask = torch.nn.functional.one_hot(qmask.reshape(-1), len(self.group2label_idx)).reshape(H, W, -1)\n",
    "            qmask = qmask.permute(2, 0, 1)\n",
    "            assert torch.max(qmask) == 1\n",
    "        return self.transform(img), qmask"
   ]
  },
  {
   "cell_type": "markdown",
   "metadata": {
    "id": "-fU5kNVZFIpg"
   },
   "source": [
    "## Model\n",
    "Design and implement your Convolutional NeuralNetworks to perform semantic segmentation on the MSRC-v2 dataset. \n",
    "\n",
    "As mentioned in the course, a normal semantic segmentation model should output a mask with the same size as the input that indicate the pixel-wise classification for the input.\n",
    "\n",
    "Generally, the basic elements of a convolutional semantic segmentation network include:\n",
    "1. Convolutional blocks:\n",
    "    - Typically consists of multiple convolutional layers, activation layers (like ReLU layer), BatchNorm layers, and/or Dropout layers.\n",
    "2. Down-sampling layers:\n",
    "    - Can be a simple pooling layer(Max-pooling or Average-Pooling) or convolutional layer with stride not equal to 1\n",
    "3. Up-sampling layers:\n",
    "    - Can be a simple up-sampling method like bilinear interpolation or transpose/inversed convolutional layers.\n",
    "By combining these three types of blocks, you should be able to build your own model to achieve the goal of semantic segmentation.\n",
    "\n",
    "One example of designing such model inspired by U-Net [1] is:\n",
    "1. Convolutional block with several Conv-ReLU layers with #channel $3\\to C$ (input to output)\n",
    "2. Down-sampling layer with down-sampling factor $s$ (output shape $(N, C, H/s, W/s)$)\n",
    "3. Convolutional block with several Conv-ReLU layers with #channel $C\\to 2C$\n",
    "4. Down-sampling layer with down-sampling factor $s$ (output shape $(N, 2C, H/s^2, W/s^2)$)\n",
    "5. Single convolutional layer with #channel $2C\\to 2C$\n",
    "6. Up-sampling layer with up-sampling factor $s$ (output shape $(N, 2C, H/s, W/s)$)\n",
    "7. Convolutional block with several Conv-ReLU layers with #channel $2C\\to C$\n",
    "8. Up-sampling layer with up-sampling factor $s$ (output shape $(N, C, H, W)$)\n",
    "9. Convolutional block with several Conv-ReLU layers with #channel $C\\to \\text{N_CLASS}$\n",
    "\n",
    "And the final output will have the same height and width as the input image, which is $(N, \\text{N_CLASS}, H, W)$. $\\text{N_CLASS}$ indicate the number of classes in the task, you can treat the output to be a classification task on each pixel. This is also why we will use Cross-Entropy loss as the objective function of the model.\n",
    "\n",
    "Besides the architecture mentioned above, we also encourage you to try other ways to design your own semantic segmentation network with the basic elements mentioned above.\n",
    "\n",
    "You are also allowed to use tricks like skip connection in your model, but they are not necessary for you to pass this part of the assignment.\n",
    "\n",
    "[1] O. Ronneberger, P. Fischer, and T. Brox, “U-net:  Convolutional networks for biomedical image seg-mentation,”ArXiv, vol. abs/1505.04597, 2015"
   ]
  },
  {
   "cell_type": "code",
   "execution_count": 6,
   "metadata": {},
   "outputs": [],
   "source": [
    "class Net(nn.Module):\n",
    "    def __init__(self):\n",
    "        super(Net, self).__init__()\n",
    "        self.n_class = N_CLASS\n",
    "        ########################################################################\n",
    "        # TODO: Implement a sematic segmentation model                         #\n",
    "        ########################################################################\n",
    "        self.sampling_factor = 2\n",
    "        \n",
    "        self.relu = nn.ReLU()\n",
    "        \n",
    "        #First Block (Downsampling 1)\n",
    "        self.conv1 = nn.Conv2d(3, 32, 3, padding=1, stride=1)\n",
    "        self.conv2 = nn.Conv2d(32, 32, 3, padding=1, stride=1)\n",
    "        self.maxpool1 = nn.MaxPool2d(self.sampling_factor)\n",
    "        \n",
    "        #Second Block (Downsampling 2)\n",
    "        self.conv3 = nn.Conv2d(32, 64, 3, padding=1, stride=1)\n",
    "        self.conv4 = nn.Conv2d(64, 64, 3, padding=1, stride=1)\n",
    "        self.maxpool2 = nn.MaxPool2d(self.sampling_factor)\n",
    "        \n",
    "        #Center Convolution\n",
    "        self.convMiddle = nn.Conv2d(64, 64, 3, padding=1, stride=1)\n",
    "        \n",
    "        #Third block (Upsampling 1)\n",
    "        self.upsample1 = nn.Upsample(scale_factor=self.sampling_factor, mode='nearest')\n",
    "        self.conv5 = nn.Conv2d(64, 64, 3, padding=1, stride=1)\n",
    "        self.conv6 = nn.Conv2d(64, 32, 3, padding=1, stride=1)\n",
    "        \n",
    "        #Fourth block (upsampling 2)\n",
    "        self.upsample2 = nn.Upsample(scale_factor=self.sampling_factor, mode='nearest')\n",
    "        self.conv7 = nn.Conv2d(32, 32, 3, padding=1, stride=1)\n",
    "        self.conv8 = nn.Conv2d(32, 32, 3, padding=1, stride=1)\n",
    "        \n",
    "        self.conv9 = nn.Conv2d(32, self.n_class, 3, padding=1, stride=1)\n",
    "        ########################################################################\n",
    "        #                             END OF YOUR CODE                         #\n",
    "        ########################################################################\n",
    "\n",
    "    def forward(self, x):\n",
    "        ########################################################################\n",
    "        # TODO: Implement the forward pass                                     #\n",
    "        ########################################################################\n",
    "        x = self.conv1(x)\n",
    "        x = self.relu(x)\n",
    "        x = self.conv2(x)\n",
    "        x = self.relu(x)\n",
    "        x = self.maxpool1(x)\n",
    "        \n",
    "        x = self.conv3(x)\n",
    "        x = self.relu(x)\n",
    "        x = self.conv4(x)\n",
    "        x = self.relu(x)\n",
    "        x = self.maxpool2(x)\n",
    "        \n",
    "        x = self.convMiddle(x)\n",
    "        x = self.relu(x)\n",
    "        \n",
    "        x = self.upsample1(x)\n",
    "        x = self.conv5(x)\n",
    "        x = self.relu(x)\n",
    "        x = self.conv6(x)\n",
    "        x = self.relu(x)\n",
    "        \n",
    "        x = self.upsample2(x)\n",
    "        x = self.conv7(x)\n",
    "        x = self.relu(x)\n",
    "        x = self.conv8(x)\n",
    "        x = self.relu(x)\n",
    "        \n",
    "        x = self.conv9(x)\n",
    "        \n",
    "        \n",
    "        ########################################################################\n",
    "        #                             END OF YOUR CODE                         #\n",
    "        ########################################################################\n",
    "        return x"
   ]
  },
  {
   "cell_type": "markdown",
   "metadata": {
    "id": "kyWQnSJ21Rxd"
   },
   "source": [
    "Ininitialize your model and look at the structure of your model, [torchsummary](https://github.com/sksq96/pytorch-summary) is a useful library to look at the computation graph of your model."
   ]
  },
  {
   "cell_type": "code",
   "execution_count": 7,
   "metadata": {
    "colab": {
     "base_uri": "https://localhost:8080/"
    },
    "id": "ssxWj9dA1SOb",
    "outputId": "ddbfaf72-08be-4793-c883-c10108e05041"
   },
   "outputs": [
    {
     "name": "stdout",
     "output_type": "stream",
     "text": [
      "Your network:\n",
      "----------------------------------------------------------------\n",
      "        Layer (type)               Output Shape         Param #\n",
      "================================================================\n",
      "            Conv2d-1         [-1, 32, 112, 112]             896\n",
      "              ReLU-2         [-1, 32, 112, 112]               0\n",
      "            Conv2d-3         [-1, 32, 112, 112]           9,248\n",
      "              ReLU-4         [-1, 32, 112, 112]               0\n",
      "         MaxPool2d-5           [-1, 32, 56, 56]               0\n",
      "            Conv2d-6           [-1, 64, 56, 56]          18,496\n",
      "              ReLU-7           [-1, 64, 56, 56]               0\n",
      "            Conv2d-8           [-1, 64, 56, 56]          36,928\n",
      "              ReLU-9           [-1, 64, 56, 56]               0\n",
      "        MaxPool2d-10           [-1, 64, 28, 28]               0\n",
      "           Conv2d-11           [-1, 64, 28, 28]          36,928\n",
      "             ReLU-12           [-1, 64, 28, 28]               0\n",
      "         Upsample-13           [-1, 64, 56, 56]               0\n",
      "           Conv2d-14           [-1, 64, 56, 56]          36,928\n",
      "             ReLU-15           [-1, 64, 56, 56]               0\n",
      "           Conv2d-16           [-1, 32, 56, 56]          18,464\n",
      "             ReLU-17           [-1, 32, 56, 56]               0\n",
      "         Upsample-18         [-1, 32, 112, 112]               0\n",
      "           Conv2d-19         [-1, 32, 112, 112]           9,248\n",
      "             ReLU-20         [-1, 32, 112, 112]               0\n",
      "           Conv2d-21         [-1, 32, 112, 112]           9,248\n",
      "             ReLU-22         [-1, 32, 112, 112]               0\n",
      "           Conv2d-23          [-1, 5, 112, 112]           1,445\n",
      "================================================================\n",
      "Total params: 177,829\n",
      "Trainable params: 177,829\n",
      "Non-trainable params: 0\n",
      "----------------------------------------------------------------\n",
      "Input size (MB): 0.14\n",
      "Forward/backward pass size (MB): 42.21\n",
      "Params size (MB): 0.68\n",
      "Estimated Total Size (MB): 43.03\n",
      "----------------------------------------------------------------\n"
     ]
    }
   ],
   "source": [
    "name = 'starter_net'\n",
    "net = Net().to(device)\n",
    "# visualizing the model\n",
    "print('Your network:')\n",
    "summary(net, (3,112,112), device=device)"
   ]
  },
  {
   "cell_type": "markdown",
   "metadata": {
    "id": "XOPAI1wYFQxc"
   },
   "source": [
    "Once you have completed the model implementation in the cell above, run the cell below to load helper functions and train the model."
   ]
  },
  {
   "cell_type": "code",
   "execution_count": 8,
   "metadata": {
    "id": "QUXCW18nFK6p"
   },
   "outputs": [],
   "source": [
    "def save_label(label, path, ):\n",
    "    '''\n",
    "    Function for ploting labels.\n",
    "    '''\n",
    "    colormap = [\n",
    "        '#0080FF',\n",
    "        '#000000',\n",
    "        '#80FF80',\n",
    "        '#FF8000',\n",
    "    ]\n",
    "    assert(np.max(label)<len(colormap))\n",
    "    colors = [hex2rgb(color, normalise=False) for color in colormap]\n",
    "    w = png.Writer(label.shape[1], label.shape[0], palette=colors, bitdepth=4)\n",
    "    with open(path, 'wb') as f:\n",
    "        w.write(f, label)\n",
    "\n",
    "def train(trainloader, net, criterion, optimizer, device, epoch):\n",
    "    '''\n",
    "    Function for training.\n",
    "    '''\n",
    "    start = time.time()\n",
    "    running_loss = 0.0\n",
    "    cnt = 0\n",
    "    net = net.train()\n",
    "    for images, labels in tqdm(trainloader):\n",
    "        images = images.to(device)\n",
    "        labels = labels.to(device)\n",
    "        optimizer.zero_grad()\n",
    "        output = net(images)\n",
    "        loss = criterion(output, labels)\n",
    "        loss.backward()\n",
    "        optimizer.step()\n",
    "        running_loss += loss.item()\n",
    "        cnt += 1\n",
    "    end = time.time()\n",
    "    running_loss /= cnt\n",
    "    print('\\n [epoch %d] loss: %.3f elapsed time %.3f' %\n",
    "        (epoch, running_loss, end-start))\n",
    "    return running_loss\n",
    "\n",
    "def test(testloader, net, criterion, device):\n",
    "    '''\n",
    "    Function for testing.\n",
    "    '''\n",
    "    losses = 0.\n",
    "    cnt = 0\n",
    "    with torch.no_grad():\n",
    "        net = net.eval()\n",
    "        for images, labels in tqdm(testloader):\n",
    "            images = images.to(device)\n",
    "            labels = labels.to(device)\n",
    "            output = net(images)\n",
    "            loss = criterion(output, labels)\n",
    "            losses += loss.item()\n",
    "            cnt += 1\n",
    "    print('\\n',losses / cnt)\n",
    "    return (losses/cnt)\n",
    "\n",
    "\n",
    "def cal_AP(testloader, net, criterion, device):\n",
    "    '''\n",
    "    Calculate Average Precision\n",
    "    '''\n",
    "    losses = 0.\n",
    "    cnt = 0\n",
    "    with torch.no_grad():\n",
    "        net = net.eval()\n",
    "        preds = [[] for _ in range(N_CLASS)]\n",
    "        heatmaps = [[] for _ in range(N_CLASS)]\n",
    "        for images, labels in tqdm(testloader):\n",
    "            images = images.to(device)\n",
    "            labels = labels.to(device)\n",
    "            output = net(images).cpu().numpy()\n",
    "            for c in range(N_CLASS):\n",
    "                preds[c].append(output[:, c].reshape(-1))\n",
    "                heatmaps[c].append(labels[:, c].cpu().numpy().reshape(-1))\n",
    "\n",
    "        aps = []\n",
    "        for c in range(N_CLASS):\n",
    "            preds[c] = np.concatenate(preds[c])\n",
    "            heatmaps[c] = np.concatenate(heatmaps[c])\n",
    "            if heatmaps[c].max() == 0:\n",
    "                ap = float('nan')\n",
    "            else:\n",
    "                ap = ap_score(heatmaps[c], preds[c])\n",
    "                aps.append(ap)\n",
    "            print(\"AP = {}\".format(ap))\n",
    "        print(\"Average Precision (all classes) = {}\".format(np.mean(aps)))\n",
    "    return None\n",
    "\n",
    "\n",
    "def get_result(testloader, net, device, folder='output_train'):\n",
    "    result = []\n",
    "    cnt = 1\n",
    "    os.makedirs(folder, exist_ok=True)\n",
    "    with torch.no_grad():\n",
    "        net = net.eval()\n",
    "        cnt = 0\n",
    "        for images, labels in tqdm(testloader):\n",
    "            images = images.to(device)\n",
    "            labels = labels.to(device)\n",
    "            output = net(images)[0].cpu().numpy()\n",
    "            c, h, w = output.shape\n",
    "            assert(c == N_CLASS)\n",
    "            y = np.argmax(output, 0).astype('uint8')\n",
    "            gt = labels.cpu().data.numpy().squeeze(0).astype('uint8')\n",
    "            save_label(y, './{}/y{}.png'.format(folder, cnt))\n",
    "            save_label(gt, './{}/gt{}.png'.format(folder, cnt))\n",
    "            plt.imsave('./{}/x{}.png'.format(folder, cnt),\n",
    "                     images[0].cpu().data.numpy().astype(np.uint8).transpose(1,2,0))\n",
    "            cnt += 1\n",
    "\n",
    "def plot_hist(trn_hist, val_hist):\n",
    "    x = np.arange(len(trn_hist))\n",
    "    plt.figure(figsize=(12, 8))\n",
    "    plt.plot(x, trn_hist)\n",
    "    plt.plot(x, val_hist)\n",
    "    plt.legend(['Training', 'Validation'])\n",
    "    plt.xticks(x)\n",
    "    plt.xlabel('Epoch')\n",
    "    plt.ylabel('Loss')\n",
    "    plt.savefig('part3_training_hist.png', dpi=300)\n",
    "    plt.show()"
   ]
  },
  {
   "cell_type": "markdown",
   "metadata": {
    "id": "5dKfZ2SnWnut"
   },
   "source": [
    "Experiment with with different optimizers, parameters (such as learning rate) and number of epochs. We expect you to achieve **0.65 all classes AP** on the test set. We also encourage to try to get a higher AP by improving your model design.\n",
    "\n",
    "On normal Intel core CPU configuration, a valid model design that meets this requirement takes no longer than **10 minutes** to train. The same model take no more than **5 mintues** to finish the code below on Colab. You may use this as a reference when designing your own model. A network that is too deep/too large is not encouraged considering the size of the dataset."
   ]
  },
  {
   "cell_type": "code",
   "execution_count": 16,
   "metadata": {
    "colab": {
     "base_uri": "https://localhost:8080/",
     "height": 1000
    },
    "id": "Rh5n-zKMFViG",
    "outputId": "29d9bbc6-d85c-425d-f1f3-b9477e239c92",
    "scrolled": true
   },
   "outputs": [
    {
     "name": "stderr",
     "output_type": "stream",
     "text": [
      "\r",
      "  0%|          | 0/2 [00:00<?, ?it/s]"
     ]
    },
    {
     "name": "stdout",
     "output_type": "stream",
     "text": [
      "\n",
      "Start training\n",
      "-----------------Epoch = 1-----------------\n"
     ]
    },
    {
     "name": "stderr",
     "output_type": "stream",
     "text": [
      "100%|██████████| 2/2 [00:05<00:00,  2.72s/it]\n",
      "  0%|          | 0/1 [00:00<?, ?it/s]"
     ]
    },
    {
     "name": "stdout",
     "output_type": "stream",
     "text": [
      "\n",
      " [epoch 1] loss: 1.428 elapsed time 5.436\n",
      "Validation loss: \n"
     ]
    },
    {
     "name": "stderr",
     "output_type": "stream",
     "text": [
      "100%|██████████| 1/1 [00:00<00:00,  2.44it/s]\n",
      "  0%|          | 0/2 [00:00<?, ?it/s]"
     ]
    },
    {
     "name": "stdout",
     "output_type": "stream",
     "text": [
      "\n",
      " 0.13213881850242615\n",
      "-----------------Epoch = 2-----------------\n"
     ]
    },
    {
     "name": "stderr",
     "output_type": "stream",
     "text": [
      "100%|██████████| 2/2 [00:05<00:00,  2.68s/it]\n",
      "  0%|          | 0/1 [00:00<?, ?it/s]"
     ]
    },
    {
     "name": "stdout",
     "output_type": "stream",
     "text": [
      "\n",
      " [epoch 2] loss: 0.199 elapsed time 5.367\n",
      "Validation loss: \n"
     ]
    },
    {
     "name": "stderr",
     "output_type": "stream",
     "text": [
      "100%|██████████| 1/1 [00:00<00:00,  2.43it/s]\n",
      "  0%|          | 0/2 [00:00<?, ?it/s]"
     ]
    },
    {
     "name": "stdout",
     "output_type": "stream",
     "text": [
      "\n",
      " 0.2669810652732849\n",
      "-----------------Epoch = 3-----------------\n"
     ]
    },
    {
     "name": "stderr",
     "output_type": "stream",
     "text": [
      "100%|██████████| 2/2 [00:05<00:00,  2.77s/it]\n",
      "  0%|          | 0/1 [00:00<?, ?it/s]"
     ]
    },
    {
     "name": "stdout",
     "output_type": "stream",
     "text": [
      "\n",
      " [epoch 3] loss: 0.363 elapsed time 5.546\n",
      "Validation loss: \n"
     ]
    },
    {
     "name": "stderr",
     "output_type": "stream",
     "text": [
      "100%|██████████| 1/1 [00:00<00:00,  2.54it/s]\n",
      "  0%|          | 0/2 [00:00<?, ?it/s]"
     ]
    },
    {
     "name": "stdout",
     "output_type": "stream",
     "text": [
      "\n",
      " 0.19343705475330353\n",
      "-----------------Epoch = 4-----------------\n"
     ]
    },
    {
     "name": "stderr",
     "output_type": "stream",
     "text": [
      "100%|██████████| 2/2 [00:05<00:00,  2.58s/it]\n",
      "  0%|          | 0/1 [00:00<?, ?it/s]"
     ]
    },
    {
     "name": "stdout",
     "output_type": "stream",
     "text": [
      "\n",
      " [epoch 4] loss: 0.198 elapsed time 5.173\n",
      "Validation loss: \n"
     ]
    },
    {
     "name": "stderr",
     "output_type": "stream",
     "text": [
      "100%|██████████| 1/1 [00:00<00:00,  2.57it/s]\n",
      "  0%|          | 0/2 [00:00<?, ?it/s]"
     ]
    },
    {
     "name": "stdout",
     "output_type": "stream",
     "text": [
      "\n",
      " 0.07168439030647278\n",
      "-----------------Epoch = 5-----------------\n"
     ]
    },
    {
     "name": "stderr",
     "output_type": "stream",
     "text": [
      "100%|██████████| 2/2 [00:05<00:00,  2.79s/it]\n",
      "  0%|          | 0/1 [00:00<?, ?it/s]"
     ]
    },
    {
     "name": "stdout",
     "output_type": "stream",
     "text": [
      "\n",
      " [epoch 5] loss: 0.071 elapsed time 5.584\n",
      "Validation loss: \n"
     ]
    },
    {
     "name": "stderr",
     "output_type": "stream",
     "text": [
      "100%|██████████| 1/1 [00:00<00:00,  2.43it/s]\n",
      "  0%|          | 0/2 [00:00<?, ?it/s]"
     ]
    },
    {
     "name": "stdout",
     "output_type": "stream",
     "text": [
      "\n",
      " 0.09851197153329849\n",
      "-----------------Epoch = 6-----------------\n"
     ]
    },
    {
     "name": "stderr",
     "output_type": "stream",
     "text": [
      "100%|██████████| 2/2 [00:05<00:00,  2.70s/it]\n",
      "  0%|          | 0/1 [00:00<?, ?it/s]"
     ]
    },
    {
     "name": "stdout",
     "output_type": "stream",
     "text": [
      "\n",
      " [epoch 6] loss: 0.106 elapsed time 5.407\n",
      "Validation loss: \n"
     ]
    },
    {
     "name": "stderr",
     "output_type": "stream",
     "text": [
      "100%|██████████| 1/1 [00:00<00:00,  2.43it/s]\n",
      "  0%|          | 0/2 [00:00<?, ?it/s]"
     ]
    },
    {
     "name": "stdout",
     "output_type": "stream",
     "text": [
      "\n",
      " 0.056020576506853104\n",
      "-----------------Epoch = 7-----------------\n"
     ]
    },
    {
     "name": "stderr",
     "output_type": "stream",
     "text": [
      "100%|██████████| 2/2 [00:05<00:00,  2.72s/it]\n",
      "  0%|          | 0/1 [00:00<?, ?it/s]"
     ]
    },
    {
     "name": "stdout",
     "output_type": "stream",
     "text": [
      "\n",
      " [epoch 7] loss: 0.063 elapsed time 5.452\n",
      "Validation loss: \n"
     ]
    },
    {
     "name": "stderr",
     "output_type": "stream",
     "text": [
      "100%|██████████| 1/1 [00:00<00:00,  2.46it/s]\n",
      "  0%|          | 0/2 [00:00<?, ?it/s]"
     ]
    },
    {
     "name": "stdout",
     "output_type": "stream",
     "text": [
      "\n",
      " 0.057936687022447586\n",
      "-----------------Epoch = 8-----------------\n"
     ]
    },
    {
     "name": "stderr",
     "output_type": "stream",
     "text": [
      "100%|██████████| 2/2 [00:05<00:00,  2.63s/it]\n",
      "  0%|          | 0/1 [00:00<?, ?it/s]"
     ]
    },
    {
     "name": "stdout",
     "output_type": "stream",
     "text": [
      "\n",
      " [epoch 8] loss: 0.075 elapsed time 5.266\n",
      "Validation loss: \n"
     ]
    },
    {
     "name": "stderr",
     "output_type": "stream",
     "text": [
      "100%|██████████| 1/1 [00:00<00:00,  2.55it/s]\n"
     ]
    },
    {
     "name": "stdout",
     "output_type": "stream",
     "text": [
      "\n",
      " 0.062196891754865646\n"
     ]
    },
    {
     "data": {
      "image/png": "[encoded data removed]",
      "text/plain": [
       "<Figure size 864x576 with 1 Axes>"
      ]
     },
     "metadata": {
      "needs_background": "light"
     },
     "output_type": "display_data"
    },
    {
     "name": "stderr",
     "output_type": "stream",
     "text": [
      "\r",
      "  0%|          | 0/1 [00:00<?, ?it/s]"
     ]
    },
    {
     "name": "stdout",
     "output_type": "stream",
     "text": [
      "\n",
      "Finished Training, Testing on test set\n"
     ]
    },
    {
     "name": "stderr",
     "output_type": "stream",
     "text": [
      "100%|██████████| 1/1 [00:00<00:00,  2.47it/s]\n",
      "  0%|          | 0/1 [00:00<?, ?it/s]"
     ]
    },
    {
     "name": "stdout",
     "output_type": "stream",
     "text": [
      "\n",
      " 0.06272220611572266\n",
      "\n",
      "Generating Unlabeled Result\n",
      "Here\n"
     ]
    },
    {
     "name": "stderr",
     "output_type": "stream",
     "text": [
      "\n"
     ]
    },
    {
     "ename": "RuntimeError",
     "evalue": "Class values must be smaller than num_classes.",
     "output_type": "error",
     "traceback": [
      "\u001b[0;31m---------------------------------------------------------------------------\u001b[0m",
      "\u001b[0;31mRuntimeError\u001b[0m                              Traceback (most recent call last)",
      "\u001b[0;32m<timed exec>\u001b[0m in \u001b[0;36m<module>\u001b[0;34m\u001b[0m\n",
      "\u001b[0;32m<ipython-input-8-a621b0dfdd93>\u001b[0m in \u001b[0;36mcal_AP\u001b[0;34m(testloader, net, criterion, device)\u001b[0m\n\u001b[1;32m     68\u001b[0m         \u001b[0mpreds\u001b[0m \u001b[0;34m=\u001b[0m \u001b[0;34m[\u001b[0m\u001b[0;34m[\u001b[0m\u001b[0;34m]\u001b[0m \u001b[0;32mfor\u001b[0m \u001b[0m_\u001b[0m \u001b[0;32min\u001b[0m \u001b[0mrange\u001b[0m\u001b[0;34m(\u001b[0m\u001b[0mN_CLASS\u001b[0m\u001b[0;34m)\u001b[0m\u001b[0;34m]\u001b[0m\u001b[0;34m\u001b[0m\u001b[0;34m\u001b[0m\u001b[0m\n\u001b[1;32m     69\u001b[0m         \u001b[0mheatmaps\u001b[0m \u001b[0;34m=\u001b[0m \u001b[0;34m[\u001b[0m\u001b[0;34m[\u001b[0m\u001b[0;34m]\u001b[0m \u001b[0;32mfor\u001b[0m \u001b[0m_\u001b[0m \u001b[0;32min\u001b[0m \u001b[0mrange\u001b[0m\u001b[0;34m(\u001b[0m\u001b[0mN_CLASS\u001b[0m\u001b[0;34m)\u001b[0m\u001b[0;34m]\u001b[0m\u001b[0;34m\u001b[0m\u001b[0;34m\u001b[0m\u001b[0m\n\u001b[0;32m---> 70\u001b[0;31m         \u001b[0;32mfor\u001b[0m \u001b[0mimages\u001b[0m\u001b[0;34m,\u001b[0m \u001b[0mlabels\u001b[0m \u001b[0;32min\u001b[0m \u001b[0mtqdm\u001b[0m\u001b[0;34m(\u001b[0m\u001b[0mtestloader\u001b[0m\u001b[0;34m)\u001b[0m\u001b[0;34m:\u001b[0m\u001b[0;34m\u001b[0m\u001b[0;34m\u001b[0m\u001b[0m\n\u001b[0m\u001b[1;32m     71\u001b[0m             \u001b[0mimages\u001b[0m \u001b[0;34m=\u001b[0m \u001b[0mimages\u001b[0m\u001b[0;34m.\u001b[0m\u001b[0mto\u001b[0m\u001b[0;34m(\u001b[0m\u001b[0mdevice\u001b[0m\u001b[0;34m)\u001b[0m\u001b[0;34m\u001b[0m\u001b[0;34m\u001b[0m\u001b[0m\n\u001b[1;32m     72\u001b[0m             \u001b[0mlabels\u001b[0m \u001b[0;34m=\u001b[0m \u001b[0mlabels\u001b[0m\u001b[0;34m.\u001b[0m\u001b[0mto\u001b[0m\u001b[0;34m(\u001b[0m\u001b[0mdevice\u001b[0m\u001b[0;34m)\u001b[0m\u001b[0;34m\u001b[0m\u001b[0;34m\u001b[0m\u001b[0m\n",
      "\u001b[0;32m~/opt/anaconda3/lib/python3.8/site-packages/tqdm/std.py\u001b[0m in \u001b[0;36m__iter__\u001b[0;34m(self)\u001b[0m\n\u001b[1;32m   1127\u001b[0m \u001b[0;34m\u001b[0m\u001b[0m\n\u001b[1;32m   1128\u001b[0m         \u001b[0;32mtry\u001b[0m\u001b[0;34m:\u001b[0m\u001b[0;34m\u001b[0m\u001b[0;34m\u001b[0m\u001b[0m\n\u001b[0;32m-> 1129\u001b[0;31m             \u001b[0;32mfor\u001b[0m \u001b[0mobj\u001b[0m \u001b[0;32min\u001b[0m \u001b[0miterable\u001b[0m\u001b[0;34m:\u001b[0m\u001b[0;34m\u001b[0m\u001b[0;34m\u001b[0m\u001b[0m\n\u001b[0m\u001b[1;32m   1130\u001b[0m                 \u001b[0;32myield\u001b[0m \u001b[0mobj\u001b[0m\u001b[0;34m\u001b[0m\u001b[0;34m\u001b[0m\u001b[0m\n\u001b[1;32m   1131\u001b[0m                 \u001b[0;31m# Update and possibly print the progressbar.\u001b[0m\u001b[0;34m\u001b[0m\u001b[0;34m\u001b[0m\u001b[0;34m\u001b[0m\u001b[0m\n",
      "\u001b[0;32m~/opt/anaconda3/lib/python3.8/site-packages/torch/utils/data/dataloader.py\u001b[0m in \u001b[0;36m__next__\u001b[0;34m(self)\u001b[0m\n\u001b[1;32m    528\u001b[0m             \u001b[0;32mif\u001b[0m \u001b[0mself\u001b[0m\u001b[0;34m.\u001b[0m\u001b[0m_sampler_iter\u001b[0m \u001b[0;32mis\u001b[0m \u001b[0;32mNone\u001b[0m\u001b[0;34m:\u001b[0m\u001b[0;34m\u001b[0m\u001b[0;34m\u001b[0m\u001b[0m\n\u001b[1;32m    529\u001b[0m                 \u001b[0mself\u001b[0m\u001b[0;34m.\u001b[0m\u001b[0m_reset\u001b[0m\u001b[0;34m(\u001b[0m\u001b[0;34m)\u001b[0m\u001b[0;34m\u001b[0m\u001b[0;34m\u001b[0m\u001b[0m\n\u001b[0;32m--> 530\u001b[0;31m             \u001b[0mdata\u001b[0m \u001b[0;34m=\u001b[0m \u001b[0mself\u001b[0m\u001b[0;34m.\u001b[0m\u001b[0m_next_data\u001b[0m\u001b[0;34m(\u001b[0m\u001b[0;34m)\u001b[0m\u001b[0;34m\u001b[0m\u001b[0;34m\u001b[0m\u001b[0m\n\u001b[0m\u001b[1;32m    531\u001b[0m             \u001b[0mself\u001b[0m\u001b[0;34m.\u001b[0m\u001b[0m_num_yielded\u001b[0m \u001b[0;34m+=\u001b[0m \u001b[0;36m1\u001b[0m\u001b[0;34m\u001b[0m\u001b[0;34m\u001b[0m\u001b[0m\n\u001b[1;32m    532\u001b[0m             \u001b[0;32mif\u001b[0m \u001b[0mself\u001b[0m\u001b[0;34m.\u001b[0m\u001b[0m_dataset_kind\u001b[0m \u001b[0;34m==\u001b[0m \u001b[0m_DatasetKind\u001b[0m\u001b[0;34m.\u001b[0m\u001b[0mIterable\u001b[0m \u001b[0;32mand\u001b[0m\u001b[0;31m \u001b[0m\u001b[0;31m\\\u001b[0m\u001b[0;34m\u001b[0m\u001b[0;34m\u001b[0m\u001b[0m\n",
      "\u001b[0;32m~/opt/anaconda3/lib/python3.8/site-packages/torch/utils/data/dataloader.py\u001b[0m in \u001b[0;36m_next_data\u001b[0;34m(self)\u001b[0m\n\u001b[1;32m    568\u001b[0m     \u001b[0;32mdef\u001b[0m \u001b[0m_next_data\u001b[0m\u001b[0;34m(\u001b[0m\u001b[0mself\u001b[0m\u001b[0;34m)\u001b[0m\u001b[0;34m:\u001b[0m\u001b[0;34m\u001b[0m\u001b[0;34m\u001b[0m\u001b[0m\n\u001b[1;32m    569\u001b[0m         \u001b[0mindex\u001b[0m \u001b[0;34m=\u001b[0m \u001b[0mself\u001b[0m\u001b[0;34m.\u001b[0m\u001b[0m_next_index\u001b[0m\u001b[0;34m(\u001b[0m\u001b[0;34m)\u001b[0m  \u001b[0;31m# may raise StopIteration\u001b[0m\u001b[0;34m\u001b[0m\u001b[0;34m\u001b[0m\u001b[0m\n\u001b[0;32m--> 570\u001b[0;31m         \u001b[0mdata\u001b[0m \u001b[0;34m=\u001b[0m \u001b[0mself\u001b[0m\u001b[0;34m.\u001b[0m\u001b[0m_dataset_fetcher\u001b[0m\u001b[0;34m.\u001b[0m\u001b[0mfetch\u001b[0m\u001b[0;34m(\u001b[0m\u001b[0mindex\u001b[0m\u001b[0;34m)\u001b[0m  \u001b[0;31m# may raise StopIteration\u001b[0m\u001b[0;34m\u001b[0m\u001b[0;34m\u001b[0m\u001b[0m\n\u001b[0m\u001b[1;32m    571\u001b[0m         \u001b[0;32mif\u001b[0m \u001b[0mself\u001b[0m\u001b[0;34m.\u001b[0m\u001b[0m_pin_memory\u001b[0m\u001b[0;34m:\u001b[0m\u001b[0;34m\u001b[0m\u001b[0;34m\u001b[0m\u001b[0m\n\u001b[1;32m    572\u001b[0m             \u001b[0mdata\u001b[0m \u001b[0;34m=\u001b[0m \u001b[0m_utils\u001b[0m\u001b[0;34m.\u001b[0m\u001b[0mpin_memory\u001b[0m\u001b[0;34m.\u001b[0m\u001b[0mpin_memory\u001b[0m\u001b[0;34m(\u001b[0m\u001b[0mdata\u001b[0m\u001b[0;34m)\u001b[0m\u001b[0;34m\u001b[0m\u001b[0;34m\u001b[0m\u001b[0m\n",
      "\u001b[0;32m~/opt/anaconda3/lib/python3.8/site-packages/torch/utils/data/_utils/fetch.py\u001b[0m in \u001b[0;36mfetch\u001b[0;34m(self, possibly_batched_index)\u001b[0m\n\u001b[1;32m     47\u001b[0m     \u001b[0;32mdef\u001b[0m \u001b[0mfetch\u001b[0m\u001b[0;34m(\u001b[0m\u001b[0mself\u001b[0m\u001b[0;34m,\u001b[0m \u001b[0mpossibly_batched_index\u001b[0m\u001b[0;34m)\u001b[0m\u001b[0;34m:\u001b[0m\u001b[0;34m\u001b[0m\u001b[0;34m\u001b[0m\u001b[0m\n\u001b[1;32m     48\u001b[0m         \u001b[0;32mif\u001b[0m \u001b[0mself\u001b[0m\u001b[0;34m.\u001b[0m\u001b[0mauto_collation\u001b[0m\u001b[0;34m:\u001b[0m\u001b[0;34m\u001b[0m\u001b[0;34m\u001b[0m\u001b[0m\n\u001b[0;32m---> 49\u001b[0;31m             \u001b[0mdata\u001b[0m \u001b[0;34m=\u001b[0m \u001b[0;34m[\u001b[0m\u001b[0mself\u001b[0m\u001b[0;34m.\u001b[0m\u001b[0mdataset\u001b[0m\u001b[0;34m[\u001b[0m\u001b[0midx\u001b[0m\u001b[0;34m]\u001b[0m \u001b[0;32mfor\u001b[0m \u001b[0midx\u001b[0m \u001b[0;32min\u001b[0m \u001b[0mpossibly_batched_index\u001b[0m\u001b[0;34m]\u001b[0m\u001b[0;34m\u001b[0m\u001b[0;34m\u001b[0m\u001b[0m\n\u001b[0m\u001b[1;32m     50\u001b[0m         \u001b[0;32melse\u001b[0m\u001b[0;34m:\u001b[0m\u001b[0;34m\u001b[0m\u001b[0;34m\u001b[0m\u001b[0m\n\u001b[1;32m     51\u001b[0m             \u001b[0mdata\u001b[0m \u001b[0;34m=\u001b[0m \u001b[0mself\u001b[0m\u001b[0;34m.\u001b[0m\u001b[0mdataset\u001b[0m\u001b[0;34m[\u001b[0m\u001b[0mpossibly_batched_index\u001b[0m\u001b[0;34m]\u001b[0m\u001b[0;34m\u001b[0m\u001b[0;34m\u001b[0m\u001b[0m\n",
      "\u001b[0;32m~/opt/anaconda3/lib/python3.8/site-packages/torch/utils/data/_utils/fetch.py\u001b[0m in \u001b[0;36m<listcomp>\u001b[0;34m(.0)\u001b[0m\n\u001b[1;32m     47\u001b[0m     \u001b[0;32mdef\u001b[0m \u001b[0mfetch\u001b[0m\u001b[0;34m(\u001b[0m\u001b[0mself\u001b[0m\u001b[0;34m,\u001b[0m \u001b[0mpossibly_batched_index\u001b[0m\u001b[0;34m)\u001b[0m\u001b[0;34m:\u001b[0m\u001b[0;34m\u001b[0m\u001b[0;34m\u001b[0m\u001b[0m\n\u001b[1;32m     48\u001b[0m         \u001b[0;32mif\u001b[0m \u001b[0mself\u001b[0m\u001b[0;34m.\u001b[0m\u001b[0mauto_collation\u001b[0m\u001b[0;34m:\u001b[0m\u001b[0;34m\u001b[0m\u001b[0;34m\u001b[0m\u001b[0m\n\u001b[0;32m---> 49\u001b[0;31m             \u001b[0mdata\u001b[0m \u001b[0;34m=\u001b[0m \u001b[0;34m[\u001b[0m\u001b[0mself\u001b[0m\u001b[0;34m.\u001b[0m\u001b[0mdataset\u001b[0m\u001b[0;34m[\u001b[0m\u001b[0midx\u001b[0m\u001b[0;34m]\u001b[0m \u001b[0;32mfor\u001b[0m \u001b[0midx\u001b[0m \u001b[0;32min\u001b[0m \u001b[0mpossibly_batched_index\u001b[0m\u001b[0;34m]\u001b[0m\u001b[0;34m\u001b[0m\u001b[0;34m\u001b[0m\u001b[0m\n\u001b[0m\u001b[1;32m     50\u001b[0m         \u001b[0;32melse\u001b[0m\u001b[0;34m:\u001b[0m\u001b[0;34m\u001b[0m\u001b[0;34m\u001b[0m\u001b[0m\n\u001b[1;32m     51\u001b[0m             \u001b[0mdata\u001b[0m \u001b[0;34m=\u001b[0m \u001b[0mself\u001b[0m\u001b[0;34m.\u001b[0m\u001b[0mdataset\u001b[0m\u001b[0;34m[\u001b[0m\u001b[0mpossibly_batched_index\u001b[0m\u001b[0;34m]\u001b[0m\u001b[0;34m\u001b[0m\u001b[0;34m\u001b[0m\u001b[0m\n",
      "\u001b[0;32m<ipython-input-5-e58ceb14b158>\u001b[0m in \u001b[0;36m__getitem__\u001b[0;34m(self, idx)\u001b[0m\n\u001b[1;32m     44\u001b[0m         \u001b[0;32mif\u001b[0m \u001b[0mself\u001b[0m\u001b[0;34m.\u001b[0m\u001b[0mone_hot\u001b[0m\u001b[0;34m:\u001b[0m\u001b[0;34m\u001b[0m\u001b[0;34m\u001b[0m\u001b[0m\n\u001b[1;32m     45\u001b[0m             \u001b[0mH\u001b[0m\u001b[0;34m,\u001b[0m \u001b[0mW\u001b[0m \u001b[0;34m=\u001b[0m \u001b[0mqmask\u001b[0m\u001b[0;34m.\u001b[0m\u001b[0mshape\u001b[0m\u001b[0;34m\u001b[0m\u001b[0;34m\u001b[0m\u001b[0m\n\u001b[0;32m---> 46\u001b[0;31m             \u001b[0mqmask\u001b[0m \u001b[0;34m=\u001b[0m \u001b[0mtorch\u001b[0m\u001b[0;34m.\u001b[0m\u001b[0mnn\u001b[0m\u001b[0;34m.\u001b[0m\u001b[0mfunctional\u001b[0m\u001b[0;34m.\u001b[0m\u001b[0mone_hot\u001b[0m\u001b[0;34m(\u001b[0m\u001b[0mqmask\u001b[0m\u001b[0;34m.\u001b[0m\u001b[0mreshape\u001b[0m\u001b[0;34m(\u001b[0m\u001b[0;34m-\u001b[0m\u001b[0;36m1\u001b[0m\u001b[0;34m)\u001b[0m\u001b[0;34m,\u001b[0m \u001b[0mlen\u001b[0m\u001b[0;34m(\u001b[0m\u001b[0mself\u001b[0m\u001b[0;34m.\u001b[0m\u001b[0mgroup2label_idx\u001b[0m\u001b[0;34m)\u001b[0m\u001b[0;34m)\u001b[0m\u001b[0;34m.\u001b[0m\u001b[0mreshape\u001b[0m\u001b[0;34m(\u001b[0m\u001b[0mH\u001b[0m\u001b[0;34m,\u001b[0m \u001b[0mW\u001b[0m\u001b[0;34m,\u001b[0m \u001b[0;34m-\u001b[0m\u001b[0;36m1\u001b[0m\u001b[0;34m)\u001b[0m\u001b[0;34m\u001b[0m\u001b[0;34m\u001b[0m\u001b[0m\n\u001b[0m\u001b[1;32m     47\u001b[0m             \u001b[0mqmask\u001b[0m \u001b[0;34m=\u001b[0m \u001b[0mqmask\u001b[0m\u001b[0;34m.\u001b[0m\u001b[0mpermute\u001b[0m\u001b[0;34m(\u001b[0m\u001b[0;36m2\u001b[0m\u001b[0;34m,\u001b[0m \u001b[0;36m0\u001b[0m\u001b[0;34m,\u001b[0m \u001b[0;36m1\u001b[0m\u001b[0;34m)\u001b[0m\u001b[0;34m\u001b[0m\u001b[0;34m\u001b[0m\u001b[0m\n\u001b[1;32m     48\u001b[0m             \u001b[0;32massert\u001b[0m \u001b[0mtorch\u001b[0m\u001b[0;34m.\u001b[0m\u001b[0mmax\u001b[0m\u001b[0;34m(\u001b[0m\u001b[0mqmask\u001b[0m\u001b[0;34m)\u001b[0m \u001b[0;34m==\u001b[0m \u001b[0;36m1\u001b[0m\u001b[0;34m\u001b[0m\u001b[0;34m\u001b[0m\u001b[0m\n",
      "\u001b[0;31mRuntimeError\u001b[0m: Class values must be smaller than num_classes."
     ]
    }
   ],
   "source": [
    "%%time\n",
    "# Set up the random seed for reproducibility, you should not modify the seed used here\n",
    "torch.manual_seed(442)\n",
    "random.seed(442)\n",
    "np.random.seed(442)\n",
    "\n",
    "net = Net().to(device)\n",
    "criterion = nn.CrossEntropyLoss()\n",
    "\n",
    "# Define the dataset and dataloder\n",
    "train_data = DeepScoresDataset(\"train\")\n",
    "val_data = DeepScoresDataset(\"validation\")\n",
    "test_data = DeepScoresDataset(\"test\")\n",
    "\n",
    "##############################################################################\n",
    "# TODO: Modify the lines below to experiment with different batchsize        #\n",
    "##############################################################################\n",
    "train_loader = DataLoader(train_data, batch_size=4)\n",
    "val_loader = DataLoader(val_data, batch_size=8)\n",
    "##############################################################################\n",
    "#                               END OF YOUR CODE                             #\n",
    "##############################################################################\n",
    "test_loader = DataLoader(test_data, batch_size=1)\n",
    "\n",
    "# ap_loader for calculating Average Precision\n",
    "ap_data = DeepScoresDataset(\"test\", one_hot=True)\n",
    "ap_loader = DataLoader(ap_data, batch_size=1)\n",
    "\n",
    "##############################################################################\n",
    "# TODO: Choose a proper optimizer for your model and set up corresponding    #\n",
    "# parameters (such as learning rate) and number of epochs.                   #\n",
    "##############################################################################\n",
    "learning_rate = 1e-3\n",
    "weight_decay = 1e-5\n",
    "num_epoch = 8  # TODO: Choose an appropriate number of training epochs\n",
    "optimizer = optim.Adam(net.parameters(), lr=learning_rate,\n",
    "                       weight_decay=weight_decay)\n",
    "##############################################################################\n",
    "#                               END OF YOUR CODE                             #\n",
    "##############################################################################\n",
    "\n",
    "print('\\nStart training')\n",
    "trn_hist = []\n",
    "val_hist = []\n",
    "net.train()\n",
    "for epoch in range(num_epoch): #TODO: Change the number of epochs\n",
    "    print('-----------------Epoch = %d-----------------' % (epoch+1))\n",
    "    trn_loss = train(train_loader, net, criterion, optimizer, device, epoch+1)\n",
    "    print('Validation loss: ')\n",
    "    val_loss = test(val_loader, net, criterion, device)\n",
    "    trn_hist.append(trn_loss)\n",
    "    val_hist.append(val_loss)\n",
    "\n",
    "net.eval()\n",
    "plot_hist(trn_hist, val_hist)\n",
    "##########################################################################\n",
    "# TODO: Submit the \"Average Precision(all classes)\" value in the report  #\n",
    "##########################################################################\n",
    "print('\\nFinished Training, Testing on test set')\n",
    "test(test_loader, net, criterion, device)\n",
    "print('\\nGenerating Unlabeled Result')\n",
    "##############################################################################\n",
    "# You can visualize your segmentation results using get_results function     #\n",
    "# Your result will be dumped in the folder 'output_test'.                    #\n",
    "# There will be three files for each image:                                  # \n",
    "#   (1) gt<num>.png (ground truth label)                                     #\n",
    "#   (2) x<num>.png (input RGB image)                                         #\n",
    "#   (3) y<num>.png (predicted output)                                        #\n",
    "#                                                                            #\n",
    "# TODO: Find a satisfactory result by running the next cell and report       #\n",
    "#       the plot of gt<num>.png, x<num>.png and y<num>.png in the pdf        #\n",
    "# Note: Your submission doesn't have to be perfect.                          #\n",
    "##############################################################################\n",
    "#result = get_result(test_loader, net, device, folder='output_test')\n",
    "\n",
    "os.makedirs('./models', exist_ok=True)\n",
    "torch.save(net.state_dict(), './models/model_skiplink_{}.pth'.format(name))\n",
    "print(\"Here\")\n",
    "#cal_AP(ap_loader, net, criterion, device)"
   ]
  },
  {
   "cell_type": "code",
   "execution_count": 15,
   "metadata": {
    "colab": {
     "base_uri": "https://localhost:8080/",
     "height": 362
    },
    "id": "XwYgDofP6bh9",
    "outputId": "407405d5-12f8-479d-9a0a-da086fc044f3",
    "scrolled": true
   },
   "outputs": [
    {
     "name": "stdout",
     "output_type": "stream",
     "text": [
      "image: 0\n"
     ]
    },
    {
     "data": {
      "image/png": "[encoded data removed]",
      "text/plain": [
       "<Figure size 1296x720 with 3 Axes>"
      ]
     },
     "metadata": {
      "needs_background": "light"
     },
     "output_type": "display_data"
    }
   ],
   "source": [
    "########################################################################\n",
    "# TODO: Find a satisfactory result from the 74 test images            #\n",
    "#       Submit the result in the pdf                                   #\n",
    "# Note: Your submission doesn't have to be perfect.                    #\n",
    "########################################################################\n",
    "img_idx = 0\n",
    "########################################################################\n",
    "#                             END OF YOUR CODE                         #\n",
    "########################################################################\n",
    "print(f'image: {img_idx}')\n",
    "output_dir = 'output_test'\n",
    "\n",
    "plt.subplot(1, 3, 1)\n",
    "plt.imshow(Image.open(os.path.join(output_dir, 'x{}.png'.format(img_idx))))\n",
    "plt.title('Input Image', fontsize=16)\n",
    "plt.axis('off')\n",
    "\n",
    "plt.subplot(1, 3, 2)\n",
    "plt.imshow(Image.open(os.path.join(output_dir, 'gt{}.png'.format(img_idx))))\n",
    "plt.title('Ground Truth Segmentation Map', fontsize=16)\n",
    "plt.axis('off')\n",
    "\n",
    "plt.subplot(1, 3, 3)\n",
    "plt.imshow(Image.open(os.path.join(output_dir, 'y{}.png'.format(img_idx))))\n",
    "plt.title('Predicted Segmentation Map', fontsize=16)\n",
    "plt.axis('off')\n",
    "\n",
    "plt.gcf().set_size_inches(18, 10)\n",
    "plt.show()"
   ]
  },
  {
   "cell_type": "markdown",
   "metadata": {
    "id": "e8Bz6Ic8f1m-"
   },
   "source": [
    "## Acknowledgement\n",
    "The MSR-Cambridge-v2 image dataset is downloaded from website https://www.microsoft.com/en-us/research/project/image-understanding/ and modified by 22WN EECS 442 faculty group at University of Michigan for course assginment use only"
   ]
  }
 ],
 "metadata": {
  "accelerator": "GPU",
  "colab": {
   "collapsed_sections": [],
   "name": "part3.ipynb",
   "provenance": [],
   "toc_visible": true
  },
  "kernelspec": {
   "display_name": "Python 3",
   "language": "python",
   "name": "python3"
  },
  "language_info": {
   "codemirror_mode": {
    "name": "ipython",
    "version": 3
   },
   "file_extension": ".py",
   "mimetype": "text/x-python",
   "name": "python",
   "nbconvert_exporter": "python",
   "pygments_lexer": "ipython3",
   "version": "3.8.3"
  }
 },
 "nbformat": 4,
 "nbformat_minor": 1
}
