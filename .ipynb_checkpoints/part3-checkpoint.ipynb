{
 "cells": [
  {
   "cell_type": "markdown",
   "metadata": {
    "id": "DgWlyYejDwBF"
   },
   "source": [
    "# EECS 442 Assignment 5(3): Semantic Segmentaion\n",
    "In this part, you will design and implement your Convolutional Neural Networks to perform semantic segmentation on the Microsoft Research in Cambridge (MSRC) image understanding v2 dataset.\n",
    "\n",
    "Before we start, please put your name and UMID in following format\n",
    "\n",
    ": Firstname LASTNAME, #00000000   //   e.g.) David FOUHEY, #12345678"
   ]
  },
  {
   "cell_type": "markdown",
   "metadata": {
    "id": "E54t0DTZDzpl"
   },
   "source": [
    "**Your Answer:**   \n",
    "Andrew SCHEFFER #88550453"
   ]
  },
  {
   "cell_type": "markdown",
   "metadata": {
    "id": "oFgib63vLvfU"
   },
   "source": [
    "## Setup\n",
    "First, we will install some required packages for this notebook and download the MSRC-v2 Image dataset. \n"
   ]
  },
  {
   "cell_type": "code",
   "execution_count": 1,
   "metadata": {
    "colab": {
     "base_uri": "https://localhost:8080/"
    },
    "id": "wDEtIQjnEWN5",
    "outputId": "dc9bbc04-61c5-4b51-a1ea-3944676f170f"
   },
   "outputs": [
    {
     "name": "stdout",
     "output_type": "stream",
     "text": [
      "Requirement already satisfied: colormap in /Users/drewscheffer/opt/anaconda3/lib/python3.8/site-packages (1.0.4)\r\n",
      "Requirement already satisfied: easydev in /Users/drewscheffer/opt/anaconda3/lib/python3.8/site-packages (0.12.0)\r\n",
      "Requirement already satisfied: pypng in /Users/drewscheffer/opt/anaconda3/lib/python3.8/site-packages (0.0.21)\r\n",
      "Requirement already satisfied: torchsummary in /Users/drewscheffer/opt/anaconda3/lib/python3.8/site-packages (1.5.1)\r\n",
      "Requirement already satisfied: colorama in /Users/drewscheffer/opt/anaconda3/lib/python3.8/site-packages (from easydev) (0.4.3)\r\n",
      "Requirement already satisfied: pexpect in /Users/drewscheffer/opt/anaconda3/lib/python3.8/site-packages (from easydev) (4.8.0)\r\n",
      "Requirement already satisfied: colorlog in /Users/drewscheffer/opt/anaconda3/lib/python3.8/site-packages (from easydev) (6.6.0)\r\n",
      "Requirement already satisfied: ptyprocess>=0.5 in /Users/drewscheffer/opt/anaconda3/lib/python3.8/site-packages (from pexpect->easydev) (0.6.0)\r\n"
     ]
    }
   ],
   "source": [
    "# install required packages and download the dataset\n",
    "# Run the command in the terminal if it failed on local Jupyter Notebook, remove \"!\" before each line\n",
    "!pip install colormap easydev pypng torchsummary"
   ]
  },
  {
   "cell_type": "code",
   "execution_count": 2,
   "metadata": {
    "id": "szOGZTMpDXFa"
   },
   "outputs": [],
   "source": [
    "import os\n",
    "import time\n",
    "import json\n",
    "import random\n",
    "import cv2\n",
    "import matplotlib.pyplot as plt\n",
    "import numpy as np\n",
    "import png\n",
    "import torch\n",
    "import torch.nn as nn\n",
    "import torch.optim as optim\n",
    "from torchsummary import summary\n",
    "from PIL import Image\n",
    "import torchvision\n",
    "from colormap.colors import Color, hex2rgb\n",
    "from sklearn.metrics import average_precision_score as ap_score\n",
    "from torch.utils.data import DataLoader\n",
    "from torchvision import datasets, models, transforms\n",
    "from torch.utils.data.dataset import Dataset\n",
    "from tqdm import tqdm"
   ]
  },
  {
   "cell_type": "code",
   "execution_count": 3,
   "metadata": {
    "colab": {
     "base_uri": "https://localhost:8080/"
    },
    "id": "lZiuefySEJ6J",
    "outputId": "b49d569d-811e-4691-9bab-a526c516210f"
   },
   "outputs": [
    {
     "name": "stdout",
     "output_type": "stream",
     "text": [
      "Using the CPU. Overall speed will be slowed down\n"
     ]
    }
   ],
   "source": [
    "if torch.cuda.is_available():\n",
    "    print(\"Using the GPU. You are good to go!\")\n",
    "    device = 'cuda'\n",
    "else:\n",
    "    print(\"Using the CPU. Overall speed will be slowed down\")\n",
    "    device = 'cpu'"
   ]
  },
  {
   "cell_type": "markdown",
   "metadata": {
    "id": "RwWirxVjELJ2"
   },
   "source": [
    "## Dataset\n",
    "We will create a custom Dataset function for the MSRC-v2 dataset. You don't have to change anything here."
   ]
  },
  {
   "cell_type": "code",
   "execution_count": 4,
   "metadata": {},
   "outputs": [],
   "source": [
    "N_CLASS = 5\n",
    "\n",
    "class MSRCDataset(Dataset):\n",
    "    def __init__(self, split, \n",
    "                 split_path=\"MSRC_ObjCategImageDatabase_v2/split.json\",\n",
    "                 class2color=\"MSRC_ObjCategImageDatabase_v2/class2color.json\",\n",
    "                 class2group=\"MSRC_ObjCategImageDatabase_v2/class2group.json\",\n",
    "                 one_hot=False):\n",
    "        super().__init__()\n",
    "        self.one_hot = one_hot\n",
    "        img_folder = 'MSRC_ObjCategImageDatabase_v2/Images'\n",
    "        mask_folder = 'MSRC_ObjCategImageDatabase_v2/GroundTruth'\n",
    "        GTQ_folder = 'MSRC_ObjCategImageDatabase_v2/GT_Quantize'\n",
    "        \n",
    "        self.dataset = json.load(open(split_path, 'r'))[split]\n",
    "        \n",
    "        self.class2color = json.load(open(class2color, 'r'))\n",
    "        self.color2class = {self.rgb2str(v): k for k, v in self.class2color.items()}\n",
    "        self.class2group = json.load(open(class2group, 'r'))\n",
    "        self.group2label_idx = {'void': 0, 'Human-made': 1, 'animal': 2, 'nature': 3, 'plants': 4}\n",
    "        \n",
    "        self.img_list = [data[0] for data in self.dataset]\n",
    "        self.mask_list = [data[1] for data in self.dataset]\n",
    "        GTQ_list = [data[2] for data in self.dataset]\n",
    "        self.imgs = [np.array(Image.open(os.path.join(img_folder, img))) \n",
    "                     for img in self.img_list]\n",
    "        self.masks = [np.array(Image.open(os.path.join(mask_folder, mask))) \n",
    "                      for mask in self.mask_list]\n",
    "        self.q_masks = [np.load(os.path.join(GTQ_folder, gtq))\n",
    "                        for gtq in GTQ_list]\n",
    "            \n",
    "        self.transform = transforms.Compose([\n",
    "            transforms.Resize((112, 112))\n",
    "        ])\n",
    "\n",
    "    @staticmethod\n",
    "    def rgb2str(rgb): return f\"{rgb[0]},{rgb[1]},{rgb[2]}\"\n",
    "\n",
    "    @staticmethod\n",
    "    def str2rgb(string): return [int(v) for v in string.split(',')]\n",
    "        \n",
    "    def __len__(self):\n",
    "        return len(self.dataset)\n",
    "    \n",
    "    def __getitem__(self, idx):\n",
    "        img = torch.FloatTensor(self.imgs[idx]).permute(2, 0, 1)\n",
    "        qmask = torch.LongTensor(self.q_masks[idx])[None, :, :]\n",
    "        qmask = self.transform(qmask).squeeze()\n",
    "        if self.one_hot:\n",
    "            H, W = qmask.shape\n",
    "            qmask = torch.nn.functional.one_hot(qmask.reshape(-1), len(self.group2label_idx)).reshape(H, W, -1)\n",
    "            qmask = qmask.permute(2, 0, 1)\n",
    "            assert torch.max(qmask) == 1\n",
    "        return self.transform(img), qmask"
   ]
  },
  {
   "cell_type": "markdown",
   "metadata": {
    "id": "-fU5kNVZFIpg"
   },
   "source": [
    "## Model\n",
    "Design and implement your Convolutional NeuralNetworks to perform semantic segmentation on the MSRC-v2 dataset. \n",
    "\n",
    "As mentioned in the course, a normal semantic segmentation model should output a mask with the same size as the input that indicate the pixel-wise classification for the input.\n",
    "\n",
    "Generally, the basic elements of a convolutional semantic segmentation network include:\n",
    "1. Convolutional blocks:\n",
    "    - Typically consists of multiple convolutional layers, activation layers (like ReLU layer), BatchNorm layers, and/or Dropout layers.\n",
    "2. Down-sampling layers:\n",
    "    - Can be a simple pooling layer(Max-pooling or Average-Pooling) or convolutional layer with stride not equal to 1\n",
    "3. Up-sampling layers:\n",
    "    - Can be a simple up-sampling method like bilinear interpolation or transpose/inversed convolutional layers.\n",
    "By combining these three types of blocks, you should be able to build your own model to achieve the goal of semantic segmentation.\n",
    "\n",
    "One example of designing such model inspired by U-Net [1] is:\n",
    "1. Convolutional block with several Conv-ReLU layers with #channel $3\\to C$ (input to output)\n",
    "2. Down-sampling layer with down-sampling factor $s$ (output shape $(N, C, H/s, W/s)$)\n",
    "3. Convolutional block with several Conv-ReLU layers with #channel $C\\to 2C$\n",
    "4. Down-sampling layer with down-sampling factor $s$ (output shape $(N, 2C, H/s^2, W/s^2)$)\n",
    "5. Single convolutional layer with #channel $2C\\to 2C$\n",
    "6. Up-sampling layer with up-sampling factor $s$ (output shape $(N, 2C, H/s, W/s)$)\n",
    "7. Convolutional block with several Conv-ReLU layers with #channel $2C\\to C$\n",
    "8. Up-sampling layer with up-sampling factor $s$ (output shape $(N, C, H, W)$)\n",
    "9. Convolutional block with several Conv-ReLU layers with #channel $C\\to \\text{N_CLASS}$\n",
    "\n",
    "And the final output will have the same height and width as the input image, which is $(N, \\text{N_CLASS}, H, W)$. $\\text{N_CLASS}$ indicate the number of classes in the task, you can treat the output to be a classification task on each pixel. This is also why we will use Cross-Entropy loss as the objective function of the model.\n",
    "\n",
    "Besides the architecture mentioned above, we also encourage you to try other ways to design your own semantic segmentation network with the basic elements mentioned above.\n",
    "\n",
    "You are also allowed to use tricks like skip connection in your model, but they are not necessary for you to pass this part of the assignment.\n",
    "\n",
    "[1] O. Ronneberger, P. Fischer, and T. Brox, “U-net:  Convolutional networks for biomedical image seg-mentation,”ArXiv, vol. abs/1505.04597, 2015"
   ]
  },
  {
   "cell_type": "code",
   "execution_count": 49,
   "metadata": {},
   "outputs": [],
   "source": [
    "class Net(nn.Module):\n",
    "    def __init__(self):\n",
    "        super(Net, self).__init__()\n",
    "        self.n_class = N_CLASS\n",
    "        ########################################################################\n",
    "        # TODO: Implement a sematic segmentation model                         #\n",
    "        ########################################################################\n",
    "        self.sampling_factor = 2\n",
    "        \n",
    "        self.relu = nn.ReLU()\n",
    "        \n",
    "        #First Block (Downsampling 1)\n",
    "        self.conv1 = nn.Conv2d(3, 32, 3, padding=1, stride=1)\n",
    "        self.conv2 = nn.Conv2d(32, 32, 3, padding=1, stride=1)\n",
    "        self.maxpool1 = nn.MaxPool2d(self.sampling_factor)\n",
    "        \n",
    "        #Second Block (Downsampling 2)\n",
    "        self.conv3 = nn.Conv2d(32, 64, 3, padding=1, stride=1)\n",
    "        self.conv4 = nn.Conv2d(64, 64, 3, padding=1, stride=1)\n",
    "        self.maxpool2 = nn.MaxPool2d(self.sampling_factor)\n",
    "        \n",
    "        #Center Convolution\n",
    "        self.convMiddle = nn.Conv2d(64, 64, 3, padding=1, stride=1)\n",
    "        \n",
    "        #Third block (Upsampling 1)\n",
    "        self.upsample1 = nn.Upsample(scale_factor=self.sampling_factor, mode='nearest')\n",
    "        self.conv5 = nn.Conv2d(64, 64, 3, padding=1, stride=1)\n",
    "        self.conv6 = nn.Conv2d(64, 32, 3, padding=1, stride=1)\n",
    "        \n",
    "        #Fourth block (upsampling 2)\n",
    "        self.upsample2 = nn.Upsample(scale_factor=self.sampling_factor, mode='nearest')\n",
    "        self.conv7 = nn.Conv2d(32, 32, 3, padding=1, stride=1)\n",
    "        self.conv8 = nn.Conv2d(32, 32, 3, padding=1, stride=1)\n",
    "        \n",
    "        self.conv9 = nn.Conv2d(32, self.n_class, 3, padding=1, stride=1)\n",
    "        ########################################################################\n",
    "        #                             END OF YOUR CODE                         #\n",
    "        ########################################################################\n",
    "\n",
    "    def forward(self, x):\n",
    "        ########################################################################\n",
    "        # TODO: Implement the forward pass                                     #\n",
    "        ########################################################################\n",
    "        x = self.conv1(x)\n",
    "        x = self.relu(x)\n",
    "        x = self.conv2(x)\n",
    "        x = self.relu(x)\n",
    "        x = self.maxpool1(x)\n",
    "        \n",
    "        x = self.conv3(x)\n",
    "        x = self.relu(x)\n",
    "        x = self.conv4(x)\n",
    "        x = self.relu(x)\n",
    "        x = self.maxpool2(x)\n",
    "        \n",
    "        x = self.convMiddle(x)\n",
    "        x = self.relu(x)\n",
    "        \n",
    "        x = self.upsample1(x)\n",
    "        x = self.conv5(x)\n",
    "        x = self.relu(x)\n",
    "        x = self.conv6(x)\n",
    "        x = self.relu(x)\n",
    "        \n",
    "        x = self.upsample2(x)\n",
    "        x = self.conv7(x)\n",
    "        x = self.relu(x)\n",
    "        x = self.conv8(x)\n",
    "        x = self.relu(x)\n",
    "        \n",
    "        x = self.conv9(x)\n",
    "        \n",
    "        \n",
    "        ########################################################################\n",
    "        #                             END OF YOUR CODE                         #\n",
    "        ########################################################################\n",
    "        return x"
   ]
  },
  {
   "cell_type": "markdown",
   "metadata": {
    "id": "kyWQnSJ21Rxd"
   },
   "source": [
    "Ininitialize your model and look at the structure of your model, [torchsummary](https://github.com/sksq96/pytorch-summary) is a useful library to look at the computation graph of your model."
   ]
  },
  {
   "cell_type": "code",
   "execution_count": 50,
   "metadata": {
    "colab": {
     "base_uri": "https://localhost:8080/"
    },
    "id": "ssxWj9dA1SOb",
    "outputId": "ddbfaf72-08be-4793-c883-c10108e05041"
   },
   "outputs": [
    {
     "name": "stdout",
     "output_type": "stream",
     "text": [
      "Your network:\n",
      "----------------------------------------------------------------\n",
      "        Layer (type)               Output Shape         Param #\n",
      "================================================================\n",
      "            Conv2d-1         [-1, 32, 112, 112]             896\n",
      "              ReLU-2         [-1, 32, 112, 112]               0\n",
      "            Conv2d-3         [-1, 32, 112, 112]           9,248\n",
      "              ReLU-4         [-1, 32, 112, 112]               0\n",
      "         MaxPool2d-5           [-1, 32, 56, 56]               0\n",
      "            Conv2d-6           [-1, 64, 56, 56]          18,496\n",
      "              ReLU-7           [-1, 64, 56, 56]               0\n",
      "            Conv2d-8           [-1, 64, 56, 56]          36,928\n",
      "              ReLU-9           [-1, 64, 56, 56]               0\n",
      "        MaxPool2d-10           [-1, 64, 28, 28]               0\n",
      "           Conv2d-11           [-1, 64, 28, 28]          36,928\n",
      "             ReLU-12           [-1, 64, 28, 28]               0\n",
      "         Upsample-13           [-1, 64, 56, 56]               0\n",
      "           Conv2d-14           [-1, 64, 56, 56]          36,928\n",
      "             ReLU-15           [-1, 64, 56, 56]               0\n",
      "           Conv2d-16           [-1, 32, 56, 56]          18,464\n",
      "             ReLU-17           [-1, 32, 56, 56]               0\n",
      "         Upsample-18         [-1, 32, 112, 112]               0\n",
      "           Conv2d-19         [-1, 32, 112, 112]           9,248\n",
      "             ReLU-20         [-1, 32, 112, 112]               0\n",
      "           Conv2d-21         [-1, 32, 112, 112]           9,248\n",
      "             ReLU-22         [-1, 32, 112, 112]               0\n",
      "           Conv2d-23          [-1, 5, 112, 112]           1,445\n",
      "================================================================\n",
      "Total params: 177,829\n",
      "Trainable params: 177,829\n",
      "Non-trainable params: 0\n",
      "----------------------------------------------------------------\n",
      "Input size (MB): 0.14\n",
      "Forward/backward pass size (MB): 42.21\n",
      "Params size (MB): 0.68\n",
      "Estimated Total Size (MB): 43.03\n",
      "----------------------------------------------------------------\n"
     ]
    }
   ],
   "source": [
    "name = 'starter_net'\n",
    "net = Net().to(device)\n",
    "# visualizing the model\n",
    "print('Your network:')\n",
    "summary(net, (3,112,112), device=device)"
   ]
  },
  {
   "cell_type": "markdown",
   "metadata": {
    "id": "XOPAI1wYFQxc"
   },
   "source": [
    "Once you have completed the model implementation in the cell above, run the cell below to load helper functions and train the model."
   ]
  },
  {
   "cell_type": "code",
   "execution_count": 51,
   "metadata": {
    "id": "QUXCW18nFK6p"
   },
   "outputs": [],
   "source": [
    "def save_label(label, path, ):\n",
    "    '''\n",
    "    Function for ploting labels.\n",
    "    '''\n",
    "    colormap = [\n",
    "        '#0080FF',\n",
    "        '#000000',\n",
    "        '#80FF80',\n",
    "        '#FF8000',\n",
    "        '#FF0000',\n",
    "    ]\n",
    "    assert(np.max(label)<len(colormap))\n",
    "    colors = [hex2rgb(color, normalise=False) for color in colormap]\n",
    "    w = png.Writer(label.shape[1], label.shape[0], palette=colors, bitdepth=4)\n",
    "    with open(path, 'wb') as f:\n",
    "        w.write(f, label)\n",
    "\n",
    "def train(trainloader, net, criterion, optimizer, device, epoch):\n",
    "    '''\n",
    "    Function for training.\n",
    "    '''\n",
    "    start = time.time()\n",
    "    running_loss = 0.0\n",
    "    cnt = 0\n",
    "    net = net.train()\n",
    "    for images, labels in tqdm(trainloader):\n",
    "        images = images.to(device)\n",
    "        labels = labels.to(device)\n",
    "        optimizer.zero_grad()\n",
    "        output = net(images)\n",
    "        loss = criterion(output, labels)\n",
    "        loss.backward()\n",
    "        optimizer.step()\n",
    "        running_loss += loss.item()\n",
    "        cnt += 1\n",
    "    end = time.time()\n",
    "    running_loss /= cnt\n",
    "    print('\\n [epoch %d] loss: %.3f elapsed time %.3f' %\n",
    "        (epoch, running_loss, end-start))\n",
    "    return running_loss\n",
    "\n",
    "def test(testloader, net, criterion, device):\n",
    "    '''\n",
    "    Function for testing.\n",
    "    '''\n",
    "    losses = 0.\n",
    "    cnt = 0\n",
    "    with torch.no_grad():\n",
    "        net = net.eval()\n",
    "        for images, labels in tqdm(testloader):\n",
    "            images = images.to(device)\n",
    "            labels = labels.to(device)\n",
    "            output = net(images)\n",
    "            loss = criterion(output, labels)\n",
    "            losses += loss.item()\n",
    "            cnt += 1\n",
    "    print('\\n',losses / cnt)\n",
    "    return (losses/cnt)\n",
    "\n",
    "\n",
    "def cal_AP(testloader, net, criterion, device):\n",
    "    '''\n",
    "    Calculate Average Precision\n",
    "    '''\n",
    "    losses = 0.\n",
    "    cnt = 0\n",
    "    with torch.no_grad():\n",
    "        net = net.eval()\n",
    "        preds = [[] for _ in range(N_CLASS)]\n",
    "        heatmaps = [[] for _ in range(N_CLASS)]\n",
    "        for images, labels in tqdm(testloader):\n",
    "            images = images.to(device)\n",
    "            labels = labels.to(device)\n",
    "            output = net(images).cpu().numpy()\n",
    "            for c in range(N_CLASS):\n",
    "                preds[c].append(output[:, c].reshape(-1))\n",
    "                heatmaps[c].append(labels[:, c].cpu().numpy().reshape(-1))\n",
    "\n",
    "        aps = []\n",
    "        for c in range(N_CLASS):\n",
    "            preds[c] = np.concatenate(preds[c])\n",
    "            heatmaps[c] = np.concatenate(heatmaps[c])\n",
    "            if heatmaps[c].max() == 0:\n",
    "                ap = float('nan')\n",
    "            else:\n",
    "                ap = ap_score(heatmaps[c], preds[c])\n",
    "                aps.append(ap)\n",
    "            print(\"AP = {}\".format(ap))\n",
    "        print(\"Average Precision (all classes) = {}\".format(np.mean(aps)))\n",
    "    return None\n",
    "\n",
    "\n",
    "def get_result(testloader, net, device, folder='output_train'):\n",
    "    result = []\n",
    "    cnt = 1\n",
    "    os.makedirs(folder, exist_ok=True)\n",
    "    with torch.no_grad():\n",
    "        net = net.eval()\n",
    "        cnt = 0\n",
    "        for images, labels in tqdm(testloader):\n",
    "            images = images.to(device)\n",
    "            labels = labels.to(device)\n",
    "            output = net(images)[0].cpu().numpy()\n",
    "            c, h, w = output.shape\n",
    "            assert(c == N_CLASS)\n",
    "            y = np.argmax(output, 0).astype('uint8')\n",
    "            gt = labels.cpu().data.numpy().squeeze(0).astype('uint8')\n",
    "            save_label(y, './{}/y{}.png'.format(folder, cnt))\n",
    "            save_label(gt, './{}/gt{}.png'.format(folder, cnt))\n",
    "            plt.imsave('./{}/x{}.png'.format(folder, cnt),\n",
    "                     images[0].cpu().data.numpy().astype(np.uint8).transpose(1,2,0))\n",
    "            cnt += 1\n",
    "\n",
    "def plot_hist(trn_hist, val_hist):\n",
    "    x = np.arange(len(trn_hist))\n",
    "    plt.figure(figsize=(12, 8))\n",
    "    plt.plot(x, trn_hist)\n",
    "    plt.plot(x, val_hist)\n",
    "    plt.legend(['Training', 'Validation'])\n",
    "    plt.xticks(x)\n",
    "    plt.xlabel('Epoch')\n",
    "    plt.ylabel('Loss')\n",
    "    plt.savefig('part3_training_hist.png', dpi=300)\n",
    "    plt.show()"
   ]
  },
  {
   "cell_type": "markdown",
   "metadata": {
    "id": "5dKfZ2SnWnut"
   },
   "source": [
    "Experiment with with different optimizers, parameters (such as learning rate) and number of epochs. We expect you to achieve **0.65 all classes AP** on the test set. We also encourage to try to get a higher AP by improving your model design.\n",
    "\n",
    "On normal Intel core CPU configuration, a valid model design that meets this requirement takes no longer than **10 minutes** to train. The same model take no more than **5 mintues** to finish the code below on Colab. You may use this as a reference when designing your own model. A network that is too deep/too large is not encouraged considering the size of the dataset."
   ]
  },
  {
   "cell_type": "code",
   "execution_count": 52,
   "metadata": {
    "colab": {
     "base_uri": "https://localhost:8080/",
     "height": 1000
    },
    "id": "Rh5n-zKMFViG",
    "outputId": "29d9bbc6-d85c-425d-f1f3-b9477e239c92",
    "scrolled": true
   },
   "outputs": [
    {
     "name": "stderr",
     "output_type": "stream",
     "text": [
      "\r\n",
      "  0%|          | 0/111 [00:00<?, ?it/s]"
     ]
    },
    {
     "name": "stdout",
     "output_type": "stream",
     "text": [
      "\n",
      "Start training\n",
      "-----------------Epoch = 1-----------------\n"
     ]
    },
    {
     "name": "stderr",
     "output_type": "stream",
     "text": [
      "100%|██████████| 111/111 [00:34<00:00,  3.20it/s]\n",
      "  0%|          | 0/10 [00:00<?, ?it/s]"
     ]
    },
    {
     "name": "stdout",
     "output_type": "stream",
     "text": [
      "\n",
      " [epoch 1] loss: 1.546 elapsed time 34.734\n",
      "Validation loss: \n"
     ]
    },
    {
     "name": "stderr",
     "output_type": "stream",
     "text": [
      "100%|██████████| 10/10 [00:02<00:00,  4.74it/s]\n",
      "  0%|          | 0/111 [00:00<?, ?it/s]"
     ]
    },
    {
     "name": "stdout",
     "output_type": "stream",
     "text": [
      "\n",
      " 1.5017992377281189\n",
      "-----------------Epoch = 2-----------------\n"
     ]
    },
    {
     "name": "stderr",
     "output_type": "stream",
     "text": [
      "100%|██████████| 111/111 [00:34<00:00,  3.21it/s]\n",
      "  0%|          | 0/10 [00:00<?, ?it/s]"
     ]
    },
    {
     "name": "stdout",
     "output_type": "stream",
     "text": [
      "\n",
      " [epoch 2] loss: 1.379 elapsed time 34.613\n",
      "Validation loss: \n"
     ]
    },
    {
     "name": "stderr",
     "output_type": "stream",
     "text": [
      "100%|██████████| 10/10 [00:02<00:00,  4.76it/s]\n",
      "  0%|          | 0/111 [00:00<?, ?it/s]"
     ]
    },
    {
     "name": "stdout",
     "output_type": "stream",
     "text": [
      "\n",
      " 1.31190083026886\n",
      "-----------------Epoch = 3-----------------\n"
     ]
    },
    {
     "name": "stderr",
     "output_type": "stream",
     "text": [
      "100%|██████████| 111/111 [00:34<00:00,  3.21it/s]\n",
      "  0%|          | 0/10 [00:00<?, ?it/s]"
     ]
    },
    {
     "name": "stdout",
     "output_type": "stream",
     "text": [
      "\n",
      " [epoch 3] loss: 1.286 elapsed time 34.569\n",
      "Validation loss: \n"
     ]
    },
    {
     "name": "stderr",
     "output_type": "stream",
     "text": [
      "100%|██████████| 10/10 [00:02<00:00,  4.74it/s]\n",
      "  0%|          | 0/111 [00:00<?, ?it/s]"
     ]
    },
    {
     "name": "stdout",
     "output_type": "stream",
     "text": [
      "\n",
      " 1.1737809658050538\n",
      "-----------------Epoch = 4-----------------\n"
     ]
    },
    {
     "name": "stderr",
     "output_type": "stream",
     "text": [
      "100%|██████████| 111/111 [00:34<00:00,  3.23it/s]\n",
      "  0%|          | 0/10 [00:00<?, ?it/s]"
     ]
    },
    {
     "name": "stdout",
     "output_type": "stream",
     "text": [
      "\n",
      " [epoch 4] loss: 1.219 elapsed time 34.415\n",
      "Validation loss: \n"
     ]
    },
    {
     "name": "stderr",
     "output_type": "stream",
     "text": [
      "100%|██████████| 10/10 [00:02<00:00,  4.77it/s]\n",
      "  0%|          | 0/111 [00:00<?, ?it/s]"
     ]
    },
    {
     "name": "stdout",
     "output_type": "stream",
     "text": [
      "\n",
      " 1.1423770427703857\n",
      "-----------------Epoch = 5-----------------\n"
     ]
    },
    {
     "name": "stderr",
     "output_type": "stream",
     "text": [
      "100%|██████████| 111/111 [00:36<00:00,  3.03it/s]\n",
      "  0%|          | 0/10 [00:00<?, ?it/s]"
     ]
    },
    {
     "name": "stdout",
     "output_type": "stream",
     "text": [
      "\n",
      " [epoch 5] loss: 1.154 elapsed time 36.615\n",
      "Validation loss: \n"
     ]
    },
    {
     "name": "stderr",
     "output_type": "stream",
     "text": [
      "100%|██████████| 10/10 [00:02<00:00,  4.63it/s]\n",
      "  0%|          | 0/111 [00:00<?, ?it/s]"
     ]
    },
    {
     "name": "stdout",
     "output_type": "stream",
     "text": [
      "\n",
      " 1.0920872032642364\n",
      "-----------------Epoch = 6-----------------\n"
     ]
    },
    {
     "name": "stderr",
     "output_type": "stream",
     "text": [
      "100%|██████████| 111/111 [00:35<00:00,  3.16it/s]\n",
      "  0%|          | 0/10 [00:00<?, ?it/s]"
     ]
    },
    {
     "name": "stdout",
     "output_type": "stream",
     "text": [
      "\n",
      " [epoch 6] loss: 1.119 elapsed time 35.161\n",
      "Validation loss: \n"
     ]
    },
    {
     "name": "stderr",
     "output_type": "stream",
     "text": [
      "100%|██████████| 10/10 [00:02<00:00,  4.66it/s]\n",
      "  0%|          | 0/111 [00:00<?, ?it/s]"
     ]
    },
    {
     "name": "stdout",
     "output_type": "stream",
     "text": [
      "\n",
      " 1.076923030614853\n",
      "-----------------Epoch = 7-----------------\n"
     ]
    },
    {
     "name": "stderr",
     "output_type": "stream",
     "text": [
      "100%|██████████| 111/111 [00:34<00:00,  3.17it/s]\n",
      "  0%|          | 0/10 [00:00<?, ?it/s]"
     ]
    },
    {
     "name": "stdout",
     "output_type": "stream",
     "text": [
      "\n",
      " [epoch 7] loss: 1.105 elapsed time 34.969\n",
      "Validation loss: \n"
     ]
    },
    {
     "name": "stderr",
     "output_type": "stream",
     "text": [
      "100%|██████████| 10/10 [00:02<00:00,  4.70it/s]\n",
      "  0%|          | 0/111 [00:00<?, ?it/s]"
     ]
    },
    {
     "name": "stdout",
     "output_type": "stream",
     "text": [
      "\n",
      " 1.040642076730728\n",
      "-----------------Epoch = 8-----------------\n"
     ]
    },
    {
     "name": "stderr",
     "output_type": "stream",
     "text": [
      "100%|██████████| 111/111 [00:35<00:00,  3.10it/s]\n",
      "  0%|          | 0/10 [00:00<?, ?it/s]"
     ]
    },
    {
     "name": "stdout",
     "output_type": "stream",
     "text": [
      "\n",
      " [epoch 8] loss: 1.084 elapsed time 35.772\n",
      "Validation loss: \n"
     ]
    },
    {
     "name": "stderr",
     "output_type": "stream",
     "text": [
      "100%|██████████| 10/10 [00:02<00:00,  4.57it/s]\n",
      "  0%|          | 0/111 [00:00<?, ?it/s]"
     ]
    },
    {
     "name": "stdout",
     "output_type": "stream",
     "text": [
      "\n",
      " 1.0348852515220641\n",
      "-----------------Epoch = 9-----------------\n"
     ]
    },
    {
     "name": "stderr",
     "output_type": "stream",
     "text": [
      "100%|██████████| 111/111 [00:35<00:00,  3.09it/s]\n",
      "  0%|          | 0/10 [00:00<?, ?it/s]"
     ]
    },
    {
     "name": "stdout",
     "output_type": "stream",
     "text": [
      "\n",
      " [epoch 9] loss: 1.044 elapsed time 35.898\n",
      "Validation loss: \n"
     ]
    },
    {
     "name": "stderr",
     "output_type": "stream",
     "text": [
      "100%|██████████| 10/10 [00:02<00:00,  4.64it/s]\n",
      "  0%|          | 0/111 [00:00<?, ?it/s]"
     ]
    },
    {
     "name": "stdout",
     "output_type": "stream",
     "text": [
      "\n",
      " 1.0098200500011445\n",
      "-----------------Epoch = 10-----------------\n"
     ]
    },
    {
     "name": "stderr",
     "output_type": "stream",
     "text": [
      "100%|██████████| 111/111 [00:35<00:00,  3.11it/s]\n",
      "  0%|          | 0/10 [00:00<?, ?it/s]"
     ]
    },
    {
     "name": "stdout",
     "output_type": "stream",
     "text": [
      "\n",
      " [epoch 10] loss: 1.011 elapsed time 35.677\n",
      "Validation loss: \n"
     ]
    },
    {
     "name": "stderr",
     "output_type": "stream",
     "text": [
      "100%|██████████| 10/10 [00:02<00:00,  4.64it/s]\n",
      "  0%|          | 0/111 [00:00<?, ?it/s]"
     ]
    },
    {
     "name": "stdout",
     "output_type": "stream",
     "text": [
      "\n",
      " 0.9933985531330108\n",
      "-----------------Epoch = 11-----------------\n"
     ]
    },
    {
     "name": "stderr",
     "output_type": "stream",
     "text": [
      "100%|██████████| 111/111 [00:35<00:00,  3.11it/s]\n",
      "  0%|          | 0/10 [00:00<?, ?it/s]"
     ]
    },
    {
     "name": "stdout",
     "output_type": "stream",
     "text": [
      "\n",
      " [epoch 11] loss: 1.007 elapsed time 35.737\n",
      "Validation loss: \n"
     ]
    },
    {
     "name": "stderr",
     "output_type": "stream",
     "text": [
      "100%|██████████| 10/10 [00:02<00:00,  4.57it/s]\n",
      "  0%|          | 0/111 [00:00<?, ?it/s]"
     ]
    },
    {
     "name": "stdout",
     "output_type": "stream",
     "text": [
      "\n",
      " 0.9921407639980316\n",
      "-----------------Epoch = 12-----------------\n"
     ]
    },
    {
     "name": "stderr",
     "output_type": "stream",
     "text": [
      "100%|██████████| 111/111 [00:36<00:00,  3.07it/s]\n",
      "  0%|          | 0/10 [00:00<?, ?it/s]"
     ]
    },
    {
     "name": "stdout",
     "output_type": "stream",
     "text": [
      "\n",
      " [epoch 12] loss: 0.967 elapsed time 36.197\n",
      "Validation loss: \n"
     ]
    },
    {
     "name": "stderr",
     "output_type": "stream",
     "text": [
      "100%|██████████| 10/10 [00:02<00:00,  4.61it/s]\n",
      "  0%|          | 0/111 [00:00<?, ?it/s]"
     ]
    },
    {
     "name": "stdout",
     "output_type": "stream",
     "text": [
      "\n",
      " 0.9765819251537323\n",
      "-----------------Epoch = 13-----------------\n"
     ]
    },
    {
     "name": "stderr",
     "output_type": "stream",
     "text": [
      "100%|██████████| 111/111 [00:36<00:00,  3.07it/s]\n",
      "  0%|          | 0/10 [00:00<?, ?it/s]"
     ]
    },
    {
     "name": "stdout",
     "output_type": "stream",
     "text": [
      "\n",
      " [epoch 13] loss: 0.940 elapsed time 36.146\n",
      "Validation loss: \n"
     ]
    },
    {
     "name": "stderr",
     "output_type": "stream",
     "text": [
      "100%|██████████| 10/10 [00:02<00:00,  4.64it/s]\n",
      "  0%|          | 0/111 [00:00<?, ?it/s]"
     ]
    },
    {
     "name": "stdout",
     "output_type": "stream",
     "text": [
      "\n",
      " 0.9471664488315582\n",
      "-----------------Epoch = 14-----------------\n"
     ]
    },
    {
     "name": "stderr",
     "output_type": "stream",
     "text": [
      "100%|██████████| 111/111 [00:37<00:00,  2.98it/s]\n",
      "  0%|          | 0/10 [00:00<?, ?it/s]"
     ]
    },
    {
     "name": "stdout",
     "output_type": "stream",
     "text": [
      "\n",
      " [epoch 14] loss: 0.920 elapsed time 37.272\n",
      "Validation loss: \n"
     ]
    },
    {
     "name": "stderr",
     "output_type": "stream",
     "text": [
      "100%|██████████| 10/10 [00:02<00:00,  4.15it/s]\n",
      "  0%|          | 0/111 [00:00<?, ?it/s]"
     ]
    },
    {
     "name": "stdout",
     "output_type": "stream",
     "text": [
      "\n",
      " 0.9271502196788788\n",
      "-----------------Epoch = 15-----------------\n"
     ]
    },
    {
     "name": "stderr",
     "output_type": "stream",
     "text": [
      "100%|██████████| 111/111 [00:40<00:00,  2.71it/s]\n",
      "  0%|          | 0/10 [00:00<?, ?it/s]"
     ]
    },
    {
     "name": "stdout",
     "output_type": "stream",
     "text": [
      "\n",
      " [epoch 15] loss: 0.895 elapsed time 40.990\n",
      "Validation loss: \n"
     ]
    },
    {
     "name": "stderr",
     "output_type": "stream",
     "text": [
      "100%|██████████| 10/10 [00:02<00:00,  3.58it/s]\n",
      "  0%|          | 0/111 [00:00<?, ?it/s]"
     ]
    },
    {
     "name": "stdout",
     "output_type": "stream",
     "text": [
      "\n",
      " 0.9846318483352661\n",
      "-----------------Epoch = 16-----------------\n"
     ]
    },
    {
     "name": "stderr",
     "output_type": "stream",
     "text": [
      "100%|██████████| 111/111 [00:40<00:00,  2.71it/s]\n",
      "  0%|          | 0/10 [00:00<?, ?it/s]"
     ]
    },
    {
     "name": "stdout",
     "output_type": "stream",
     "text": [
      "\n",
      " [epoch 16] loss: 0.898 elapsed time 40.964\n",
      "Validation loss: \n"
     ]
    },
    {
     "name": "stderr",
     "output_type": "stream",
     "text": [
      "100%|██████████| 10/10 [00:02<00:00,  3.60it/s]\n",
      "  0%|          | 0/111 [00:00<?, ?it/s]"
     ]
    },
    {
     "name": "stdout",
     "output_type": "stream",
     "text": [
      "\n",
      " 0.947904521226883\n",
      "-----------------Epoch = 17-----------------\n"
     ]
    },
    {
     "name": "stderr",
     "output_type": "stream",
     "text": [
      "100%|██████████| 111/111 [00:39<00:00,  2.78it/s]\n",
      "  0%|          | 0/10 [00:00<?, ?it/s]"
     ]
    },
    {
     "name": "stdout",
     "output_type": "stream",
     "text": [
      "\n",
      " [epoch 17] loss: 0.882 elapsed time 39.882\n",
      "Validation loss: \n"
     ]
    },
    {
     "name": "stderr",
     "output_type": "stream",
     "text": [
      "100%|██████████| 10/10 [00:02<00:00,  3.39it/s]\n",
      "  0%|          | 0/111 [00:00<?, ?it/s]"
     ]
    },
    {
     "name": "stdout",
     "output_type": "stream",
     "text": [
      "\n",
      " 0.9420696198940277\n",
      "-----------------Epoch = 18-----------------\n"
     ]
    },
    {
     "name": "stderr",
     "output_type": "stream",
     "text": [
      "100%|██████████| 111/111 [00:43<00:00,  2.53it/s]\n",
      "  0%|          | 0/10 [00:00<?, ?it/s]"
     ]
    },
    {
     "name": "stdout",
     "output_type": "stream",
     "text": [
      "\n",
      " [epoch 18] loss: 0.879 elapsed time 43.846\n",
      "Validation loss: \n"
     ]
    },
    {
     "name": "stderr",
     "output_type": "stream",
     "text": [
      "100%|██████████| 10/10 [00:03<00:00,  3.21it/s]\n",
      "  0%|          | 0/111 [00:00<?, ?it/s]"
     ]
    },
    {
     "name": "stdout",
     "output_type": "stream",
     "text": [
      "\n",
      " 0.9412973523139954\n",
      "-----------------Epoch = 19-----------------\n"
     ]
    },
    {
     "name": "stderr",
     "output_type": "stream",
     "text": [
      "100%|██████████| 111/111 [00:43<00:00,  2.54it/s]\n",
      "  0%|          | 0/10 [00:00<?, ?it/s]"
     ]
    },
    {
     "name": "stdout",
     "output_type": "stream",
     "text": [
      "\n",
      " [epoch 19] loss: 0.856 elapsed time 43.638\n",
      "Validation loss: \n"
     ]
    },
    {
     "name": "stderr",
     "output_type": "stream",
     "text": [
      "100%|██████████| 10/10 [00:03<00:00,  3.31it/s]\n",
      "  0%|          | 0/111 [00:00<?, ?it/s]"
     ]
    },
    {
     "name": "stdout",
     "output_type": "stream",
     "text": [
      "\n",
      " 0.9205313444137573\n",
      "-----------------Epoch = 20-----------------\n"
     ]
    },
    {
     "name": "stderr",
     "output_type": "stream",
     "text": [
      "100%|██████████| 111/111 [00:43<00:00,  2.54it/s]\n",
      "  0%|          | 0/10 [00:00<?, ?it/s]"
     ]
    },
    {
     "name": "stdout",
     "output_type": "stream",
     "text": [
      "\n",
      " [epoch 20] loss: 0.826 elapsed time 43.737\n",
      "Validation loss: \n"
     ]
    },
    {
     "name": "stderr",
     "output_type": "stream",
     "text": [
      "100%|██████████| 10/10 [00:03<00:00,  3.20it/s]\n",
      "  0%|          | 0/111 [00:00<?, ?it/s]"
     ]
    },
    {
     "name": "stdout",
     "output_type": "stream",
     "text": [
      "\n",
      " 0.9283045113086701\n",
      "-----------------Epoch = 21-----------------\n"
     ]
    },
    {
     "name": "stderr",
     "output_type": "stream",
     "text": [
      "100%|██████████| 111/111 [00:44<00:00,  2.48it/s]\n",
      "  0%|          | 0/10 [00:00<?, ?it/s]"
     ]
    },
    {
     "name": "stdout",
     "output_type": "stream",
     "text": [
      "\n",
      " [epoch 21] loss: 0.813 elapsed time 44.748\n",
      "Validation loss: \n"
     ]
    },
    {
     "name": "stderr",
     "output_type": "stream",
     "text": [
      "100%|██████████| 10/10 [00:03<00:00,  3.16it/s]\n",
      "  0%|          | 0/111 [00:00<?, ?it/s]"
     ]
    },
    {
     "name": "stdout",
     "output_type": "stream",
     "text": [
      "\n",
      " 0.9432480156421661\n",
      "-----------------Epoch = 22-----------------\n"
     ]
    },
    {
     "name": "stderr",
     "output_type": "stream",
     "text": [
      "100%|██████████| 111/111 [00:44<00:00,  2.47it/s]\n",
      "  0%|          | 0/10 [00:00<?, ?it/s]"
     ]
    },
    {
     "name": "stdout",
     "output_type": "stream",
     "text": [
      "\n",
      " [epoch 22] loss: 0.824 elapsed time 44.880\n",
      "Validation loss: \n"
     ]
    },
    {
     "name": "stderr",
     "output_type": "stream",
     "text": [
      "100%|██████████| 10/10 [00:03<00:00,  3.11it/s]\n",
      "  0%|          | 0/111 [00:00<?, ?it/s]"
     ]
    },
    {
     "name": "stdout",
     "output_type": "stream",
     "text": [
      "\n",
      " 0.9326601326465607\n",
      "-----------------Epoch = 23-----------------\n"
     ]
    },
    {
     "name": "stderr",
     "output_type": "stream",
     "text": [
      "100%|██████████| 111/111 [00:44<00:00,  2.47it/s]\n",
      "  0%|          | 0/10 [00:00<?, ?it/s]"
     ]
    },
    {
     "name": "stdout",
     "output_type": "stream",
     "text": [
      "\n",
      " [epoch 23] loss: 0.808 elapsed time 44.908\n",
      "Validation loss: \n"
     ]
    },
    {
     "name": "stderr",
     "output_type": "stream",
     "text": [
      "100%|██████████| 10/10 [00:03<00:00,  3.25it/s]\n",
      "  0%|          | 0/111 [00:00<?, ?it/s]"
     ]
    },
    {
     "name": "stdout",
     "output_type": "stream",
     "text": [
      "\n",
      " 0.9006006300449372\n",
      "-----------------Epoch = 24-----------------\n"
     ]
    },
    {
     "name": "stderr",
     "output_type": "stream",
     "text": [
      "100%|██████████| 111/111 [00:43<00:00,  2.54it/s]\n",
      "  0%|          | 0/10 [00:00<?, ?it/s]"
     ]
    },
    {
     "name": "stdout",
     "output_type": "stream",
     "text": [
      "\n",
      " [epoch 24] loss: 0.785 elapsed time 43.632\n",
      "Validation loss: \n"
     ]
    },
    {
     "name": "stderr",
     "output_type": "stream",
     "text": [
      "100%|██████████| 10/10 [00:03<00:00,  3.25it/s]\n",
      "  0%|          | 0/111 [00:00<?, ?it/s]"
     ]
    },
    {
     "name": "stdout",
     "output_type": "stream",
     "text": [
      "\n",
      " 0.9254236996173859\n",
      "-----------------Epoch = 25-----------------\n"
     ]
    },
    {
     "name": "stderr",
     "output_type": "stream",
     "text": [
      "100%|██████████| 111/111 [00:46<00:00,  2.39it/s]\n",
      "  0%|          | 0/10 [00:00<?, ?it/s]"
     ]
    },
    {
     "name": "stdout",
     "output_type": "stream",
     "text": [
      "\n",
      " [epoch 25] loss: 0.774 elapsed time 46.359\n",
      "Validation loss: \n"
     ]
    },
    {
     "name": "stderr",
     "output_type": "stream",
     "text": [
      "100%|██████████| 10/10 [00:03<00:00,  2.98it/s]\n",
      "  0%|          | 0/111 [00:00<?, ?it/s]"
     ]
    },
    {
     "name": "stdout",
     "output_type": "stream",
     "text": [
      "\n",
      " 0.9184058904647827\n",
      "-----------------Epoch = 26-----------------\n"
     ]
    },
    {
     "name": "stderr",
     "output_type": "stream",
     "text": [
      "100%|██████████| 111/111 [00:45<00:00,  2.42it/s]\n",
      "  0%|          | 0/10 [00:00<?, ?it/s]"
     ]
    },
    {
     "name": "stdout",
     "output_type": "stream",
     "text": [
      "\n",
      " [epoch 26] loss: 0.777 elapsed time 45.844\n",
      "Validation loss: \n"
     ]
    },
    {
     "name": "stderr",
     "output_type": "stream",
     "text": [
      "100%|██████████| 10/10 [00:03<00:00,  3.00it/s]\n",
      "  0%|          | 0/111 [00:00<?, ?it/s]"
     ]
    },
    {
     "name": "stdout",
     "output_type": "stream",
     "text": [
      "\n",
      " 0.9220575869083405\n",
      "-----------------Epoch = 27-----------------\n"
     ]
    },
    {
     "name": "stderr",
     "output_type": "stream",
     "text": [
      "100%|██████████| 111/111 [00:45<00:00,  2.44it/s]\n",
      "  0%|          | 0/10 [00:00<?, ?it/s]"
     ]
    },
    {
     "name": "stdout",
     "output_type": "stream",
     "text": [
      "\n",
      " [epoch 27] loss: 0.751 elapsed time 45.417\n",
      "Validation loss: \n"
     ]
    },
    {
     "name": "stderr",
     "output_type": "stream",
     "text": [
      "100%|██████████| 10/10 [00:03<00:00,  3.15it/s]\n",
      "  0%|          | 0/111 [00:00<?, ?it/s]"
     ]
    },
    {
     "name": "stdout",
     "output_type": "stream",
     "text": [
      "\n",
      " 0.9167647123336792\n",
      "-----------------Epoch = 28-----------------\n"
     ]
    },
    {
     "name": "stderr",
     "output_type": "stream",
     "text": [
      "100%|██████████| 111/111 [00:44<00:00,  2.47it/s]\n",
      "  0%|          | 0/10 [00:00<?, ?it/s]"
     ]
    },
    {
     "name": "stdout",
     "output_type": "stream",
     "text": [
      "\n",
      " [epoch 28] loss: 0.731 elapsed time 44.966\n",
      "Validation loss: \n"
     ]
    },
    {
     "name": "stderr",
     "output_type": "stream",
     "text": [
      "100%|██████████| 10/10 [00:03<00:00,  2.98it/s]\n",
      "  0%|          | 0/111 [00:00<?, ?it/s]"
     ]
    },
    {
     "name": "stdout",
     "output_type": "stream",
     "text": [
      "\n",
      " 0.9336267113685608\n",
      "-----------------Epoch = 29-----------------\n"
     ]
    },
    {
     "name": "stderr",
     "output_type": "stream",
     "text": [
      "100%|██████████| 111/111 [00:45<00:00,  2.42it/s]\n",
      "  0%|          | 0/10 [00:00<?, ?it/s]"
     ]
    },
    {
     "name": "stdout",
     "output_type": "stream",
     "text": [
      "\n",
      " [epoch 29] loss: 0.726 elapsed time 45.883\n",
      "Validation loss: \n"
     ]
    },
    {
     "name": "stderr",
     "output_type": "stream",
     "text": [
      "100%|██████████| 10/10 [00:03<00:00,  2.97it/s]\n",
      "  0%|          | 0/111 [00:00<?, ?it/s]"
     ]
    },
    {
     "name": "stdout",
     "output_type": "stream",
     "text": [
      "\n",
      " 0.9653196573257447\n",
      "-----------------Epoch = 30-----------------\n"
     ]
    },
    {
     "name": "stderr",
     "output_type": "stream",
     "text": [
      "100%|██████████| 111/111 [00:46<00:00,  2.39it/s]\n",
      "  0%|          | 0/10 [00:00<?, ?it/s]"
     ]
    },
    {
     "name": "stdout",
     "output_type": "stream",
     "text": [
      "\n",
      " [epoch 30] loss: 0.719 elapsed time 46.440\n",
      "Validation loss: \n"
     ]
    },
    {
     "name": "stderr",
     "output_type": "stream",
     "text": [
      "100%|██████████| 10/10 [00:03<00:00,  2.82it/s]\n",
      "  0%|          | 0/111 [00:00<?, ?it/s]"
     ]
    },
    {
     "name": "stdout",
     "output_type": "stream",
     "text": [
      "\n",
      " 0.9748606264591217\n",
      "-----------------Epoch = 31-----------------\n"
     ]
    },
    {
     "name": "stderr",
     "output_type": "stream",
     "text": [
      "100%|██████████| 111/111 [00:47<00:00,  2.35it/s]\n",
      "  0%|          | 0/10 [00:00<?, ?it/s]"
     ]
    },
    {
     "name": "stdout",
     "output_type": "stream",
     "text": [
      "\n",
      " [epoch 31] loss: 0.703 elapsed time 47.243\n",
      "Validation loss: \n"
     ]
    },
    {
     "name": "stderr",
     "output_type": "stream",
     "text": [
      "100%|██████████| 10/10 [00:03<00:00,  2.80it/s]\n",
      "  0%|          | 0/111 [00:00<?, ?it/s]"
     ]
    },
    {
     "name": "stdout",
     "output_type": "stream",
     "text": [
      "\n",
      " 0.9693776190280914\n",
      "-----------------Epoch = 32-----------------\n"
     ]
    },
    {
     "name": "stderr",
     "output_type": "stream",
     "text": [
      "100%|██████████| 111/111 [00:47<00:00,  2.34it/s]\n",
      "  0%|          | 0/10 [00:00<?, ?it/s]"
     ]
    },
    {
     "name": "stdout",
     "output_type": "stream",
     "text": [
      "\n",
      " [epoch 32] loss: 0.694 elapsed time 47.539\n",
      "Validation loss: \n"
     ]
    },
    {
     "name": "stderr",
     "output_type": "stream",
     "text": [
      "100%|██████████| 10/10 [00:03<00:00,  2.91it/s]\n",
      "  0%|          | 0/111 [00:00<?, ?it/s]"
     ]
    },
    {
     "name": "stdout",
     "output_type": "stream",
     "text": [
      "\n",
      " 0.9679409742355347\n",
      "-----------------Epoch = 33-----------------\n"
     ]
    },
    {
     "name": "stderr",
     "output_type": "stream",
     "text": [
      "100%|██████████| 111/111 [00:46<00:00,  2.37it/s]\n",
      "  0%|          | 0/10 [00:00<?, ?it/s]"
     ]
    },
    {
     "name": "stdout",
     "output_type": "stream",
     "text": [
      "\n",
      " [epoch 33] loss: 0.668 elapsed time 46.922\n",
      "Validation loss: \n"
     ]
    },
    {
     "name": "stderr",
     "output_type": "stream",
     "text": [
      "100%|██████████| 10/10 [00:03<00:00,  2.85it/s]\n",
      "  0%|          | 0/111 [00:00<?, ?it/s]"
     ]
    },
    {
     "name": "stdout",
     "output_type": "stream",
     "text": [
      "\n",
      " 0.9589604556560516\n",
      "-----------------Epoch = 34-----------------\n"
     ]
    },
    {
     "name": "stderr",
     "output_type": "stream",
     "text": [
      "100%|██████████| 111/111 [00:45<00:00,  2.42it/s]\n",
      "  0%|          | 0/10 [00:00<?, ?it/s]"
     ]
    },
    {
     "name": "stdout",
     "output_type": "stream",
     "text": [
      "\n",
      " [epoch 34] loss: 0.668 elapsed time 45.864\n",
      "Validation loss: \n"
     ]
    },
    {
     "name": "stderr",
     "output_type": "stream",
     "text": [
      "100%|██████████| 10/10 [00:03<00:00,  2.91it/s]\n",
      "  0%|          | 0/111 [00:00<?, ?it/s]"
     ]
    },
    {
     "name": "stdout",
     "output_type": "stream",
     "text": [
      "\n",
      " 0.945488554239273\n",
      "-----------------Epoch = 35-----------------\n"
     ]
    },
    {
     "name": "stderr",
     "output_type": "stream",
     "text": [
      "100%|██████████| 111/111 [00:46<00:00,  2.38it/s]\n",
      "  0%|          | 0/10 [00:00<?, ?it/s]"
     ]
    },
    {
     "name": "stdout",
     "output_type": "stream",
     "text": [
      "\n",
      " [epoch 35] loss: 0.652 elapsed time 46.603\n",
      "Validation loss: \n"
     ]
    },
    {
     "name": "stderr",
     "output_type": "stream",
     "text": [
      "100%|██████████| 10/10 [00:03<00:00,  2.84it/s]\n",
      "  0%|          | 0/111 [00:00<?, ?it/s]"
     ]
    },
    {
     "name": "stdout",
     "output_type": "stream",
     "text": [
      "\n",
      " 0.9506157040596008\n",
      "-----------------Epoch = 36-----------------\n"
     ]
    },
    {
     "name": "stderr",
     "output_type": "stream",
     "text": [
      "100%|██████████| 111/111 [00:46<00:00,  2.37it/s]\n",
      "  0%|          | 0/10 [00:00<?, ?it/s]"
     ]
    },
    {
     "name": "stdout",
     "output_type": "stream",
     "text": [
      "\n",
      " [epoch 36] loss: 0.656 elapsed time 46.792\n",
      "Validation loss: \n"
     ]
    },
    {
     "name": "stderr",
     "output_type": "stream",
     "text": [
      "100%|██████████| 10/10 [00:03<00:00,  2.92it/s]\n",
      "  0%|          | 0/111 [00:00<?, ?it/s]"
     ]
    },
    {
     "name": "stdout",
     "output_type": "stream",
     "text": [
      "\n",
      " 0.9695748746395111\n",
      "-----------------Epoch = 37-----------------\n"
     ]
    },
    {
     "name": "stderr",
     "output_type": "stream",
     "text": [
      "100%|██████████| 111/111 [00:46<00:00,  2.39it/s]\n",
      "  0%|          | 0/10 [00:00<?, ?it/s]"
     ]
    },
    {
     "name": "stdout",
     "output_type": "stream",
     "text": [
      "\n",
      " [epoch 37] loss: 0.650 elapsed time 46.514\n",
      "Validation loss: \n"
     ]
    },
    {
     "name": "stderr",
     "output_type": "stream",
     "text": [
      "100%|██████████| 10/10 [00:03<00:00,  2.97it/s]\n",
      "  0%|          | 0/111 [00:00<?, ?it/s]"
     ]
    },
    {
     "name": "stdout",
     "output_type": "stream",
     "text": [
      "\n",
      " 0.9954685211181641\n",
      "-----------------Epoch = 38-----------------\n"
     ]
    },
    {
     "name": "stderr",
     "output_type": "stream",
     "text": [
      "100%|██████████| 111/111 [00:43<00:00,  2.55it/s]\n",
      "  0%|          | 0/10 [00:00<?, ?it/s]"
     ]
    },
    {
     "name": "stdout",
     "output_type": "stream",
     "text": [
      "\n",
      " [epoch 38] loss: 0.639 elapsed time 43.548\n",
      "Validation loss: \n"
     ]
    },
    {
     "name": "stderr",
     "output_type": "stream",
     "text": [
      "100%|██████████| 10/10 [00:03<00:00,  2.87it/s]\n",
      "  0%|          | 0/111 [00:00<?, ?it/s]"
     ]
    },
    {
     "name": "stdout",
     "output_type": "stream",
     "text": [
      "\n",
      " 0.9519191443920135\n",
      "-----------------Epoch = 39-----------------\n"
     ]
    },
    {
     "name": "stderr",
     "output_type": "stream",
     "text": [
      "100%|██████████| 111/111 [00:46<00:00,  2.41it/s]\n",
      "  0%|          | 0/10 [00:00<?, ?it/s]"
     ]
    },
    {
     "name": "stdout",
     "output_type": "stream",
     "text": [
      "\n",
      " [epoch 39] loss: 0.627 elapsed time 46.147\n",
      "Validation loss: \n"
     ]
    },
    {
     "name": "stderr",
     "output_type": "stream",
     "text": [
      "100%|██████████| 10/10 [00:03<00:00,  2.98it/s]\n",
      "  0%|          | 0/111 [00:00<?, ?it/s]"
     ]
    },
    {
     "name": "stdout",
     "output_type": "stream",
     "text": [
      "\n",
      " 0.9648860037326813\n",
      "-----------------Epoch = 40-----------------\n"
     ]
    },
    {
     "name": "stderr",
     "output_type": "stream",
     "text": [
      "100%|██████████| 111/111 [00:46<00:00,  2.39it/s]\n",
      "  0%|          | 0/10 [00:00<?, ?it/s]"
     ]
    },
    {
     "name": "stdout",
     "output_type": "stream",
     "text": [
      "\n",
      " [epoch 40] loss: 0.610 elapsed time 46.509\n",
      "Validation loss: \n"
     ]
    },
    {
     "name": "stderr",
     "output_type": "stream",
     "text": [
      "100%|██████████| 10/10 [00:03<00:00,  2.89it/s]\n",
      "  0%|          | 0/111 [00:00<?, ?it/s]"
     ]
    },
    {
     "name": "stdout",
     "output_type": "stream",
     "text": [
      "\n",
      " 0.9530133426189422\n",
      "-----------------Epoch = 41-----------------\n"
     ]
    },
    {
     "name": "stderr",
     "output_type": "stream",
     "text": [
      "100%|██████████| 111/111 [00:46<00:00,  2.38it/s]\n",
      "  0%|          | 0/10 [00:00<?, ?it/s]"
     ]
    },
    {
     "name": "stdout",
     "output_type": "stream",
     "text": [
      "\n",
      " [epoch 41] loss: 0.587 elapsed time 46.647\n",
      "Validation loss: \n"
     ]
    },
    {
     "name": "stderr",
     "output_type": "stream",
     "text": [
      "100%|██████████| 10/10 [00:03<00:00,  2.84it/s]\n",
      "  0%|          | 0/111 [00:00<?, ?it/s]"
     ]
    },
    {
     "name": "stdout",
     "output_type": "stream",
     "text": [
      "\n",
      " 0.9447022080421448\n",
      "-----------------Epoch = 42-----------------\n"
     ]
    },
    {
     "name": "stderr",
     "output_type": "stream",
     "text": [
      "100%|██████████| 111/111 [00:47<00:00,  2.35it/s]\n",
      "  0%|          | 0/10 [00:00<?, ?it/s]"
     ]
    },
    {
     "name": "stdout",
     "output_type": "stream",
     "text": [
      "\n",
      " [epoch 42] loss: 0.570 elapsed time 47.157\n",
      "Validation loss: \n"
     ]
    },
    {
     "name": "stderr",
     "output_type": "stream",
     "text": [
      "100%|██████████| 10/10 [00:03<00:00,  2.86it/s]\n",
      "  0%|          | 0/111 [00:00<?, ?it/s]"
     ]
    },
    {
     "name": "stdout",
     "output_type": "stream",
     "text": [
      "\n",
      " 0.977547425031662\n",
      "-----------------Epoch = 43-----------------\n"
     ]
    },
    {
     "name": "stderr",
     "output_type": "stream",
     "text": [
      "100%|██████████| 111/111 [00:47<00:00,  2.31it/s]\n",
      "  0%|          | 0/10 [00:00<?, ?it/s]"
     ]
    },
    {
     "name": "stdout",
     "output_type": "stream",
     "text": [
      "\n",
      " [epoch 43] loss: 0.567 elapsed time 47.988\n",
      "Validation loss: \n"
     ]
    },
    {
     "name": "stderr",
     "output_type": "stream",
     "text": [
      "100%|██████████| 10/10 [00:03<00:00,  2.84it/s]\n",
      "  0%|          | 0/111 [00:00<?, ?it/s]"
     ]
    },
    {
     "name": "stdout",
     "output_type": "stream",
     "text": [
      "\n",
      " 1.023527204990387\n",
      "-----------------Epoch = 44-----------------\n"
     ]
    },
    {
     "name": "stderr",
     "output_type": "stream",
     "text": [
      "100%|██████████| 111/111 [00:48<00:00,  2.28it/s]\n",
      "  0%|          | 0/10 [00:00<?, ?it/s]"
     ]
    },
    {
     "name": "stdout",
     "output_type": "stream",
     "text": [
      "\n",
      " [epoch 44] loss: 0.552 elapsed time 48.698\n",
      "Validation loss: \n"
     ]
    },
    {
     "name": "stderr",
     "output_type": "stream",
     "text": [
      "100%|██████████| 10/10 [00:03<00:00,  2.71it/s]\n",
      "  0%|          | 0/111 [00:00<?, ?it/s]"
     ]
    },
    {
     "name": "stdout",
     "output_type": "stream",
     "text": [
      "\n",
      " 1.0536010622978211\n",
      "-----------------Epoch = 45-----------------\n"
     ]
    },
    {
     "name": "stderr",
     "output_type": "stream",
     "text": [
      "100%|██████████| 111/111 [00:48<00:00,  2.28it/s]\n",
      "  0%|          | 0/10 [00:00<?, ?it/s]"
     ]
    },
    {
     "name": "stdout",
     "output_type": "stream",
     "text": [
      "\n",
      " [epoch 45] loss: 0.543 elapsed time 48.793\n",
      "Validation loss: \n"
     ]
    },
    {
     "name": "stderr",
     "output_type": "stream",
     "text": [
      "100%|██████████| 10/10 [00:03<00:00,  2.72it/s]\n"
     ]
    },
    {
     "name": "stdout",
     "output_type": "stream",
     "text": [
      "\n",
      " 1.061599189043045\n"
     ]
    },
    {
     "data": {
      "image/png": "[encoded data removed]",
      "text/plain": [
       "<Figure size 864x576 with 1 Axes>"
      ]
     },
     "metadata": {
      "needs_background": "light"
     },
     "output_type": "display_data"
    },
    {
     "name": "stderr",
     "output_type": "stream",
     "text": [
      "  3%|▎         | 2/74 [00:00<00:03, 18.39it/s]"
     ]
    },
    {
     "name": "stdout",
     "output_type": "stream",
     "text": [
      "\n",
      "Finished Training, Testing on test set\n"
     ]
    },
    {
     "name": "stderr",
     "output_type": "stream",
     "text": [
      "100%|██████████| 74/74 [00:03<00:00, 21.48it/s]\n",
      "  3%|▎         | 2/74 [00:00<00:04, 15.54it/s]"
     ]
    },
    {
     "name": "stdout",
     "output_type": "stream",
     "text": [
      "\n",
      " 1.0409264784004237\n",
      "\n",
      "Generating Unlabeled Result\n"
     ]
    },
    {
     "name": "stderr",
     "output_type": "stream",
     "text": [
      "100%|██████████| 74/74 [00:04<00:00, 16.81it/s]\n",
      "100%|██████████| 74/74 [00:03<00:00, 21.13it/s]\n"
     ]
    },
    {
     "name": "stdout",
     "output_type": "stream",
     "text": [
      "AP = 0.6856902141669582\n",
      "AP = 0.3532953596647413\n",
      "AP = 0.7465791458169503\n",
      "AP = 0.8215925358992829\n",
      "AP = 0.7875349922348178\n",
      "Average Precision (all classes) = 0.6789384495565501\n",
      "CPU times: user 31min 43s, sys: 6min 21s, total: 38min 4s\n",
      "Wall time: 34min 18s\n"
     ]
    }
   ],
   "source": [
    "%%time\n",
    "# Set up the random seed for reproducibility, you should not modify the seed used here\n",
    "torch.manual_seed(442)\n",
    "random.seed(442)\n",
    "np.random.seed(442)\n",
    "\n",
    "net = Net().to(device)\n",
    "criterion = nn.CrossEntropyLoss()\n",
    "\n",
    "# Define the dataset and dataloder\n",
    "train_data = MSRCDataset(\"train\")\n",
    "val_data = MSRCDataset(\"validation\")\n",
    "test_data = MSRCDataset(\"test\")\n",
    "\n",
    "##############################################################################\n",
    "# TODO: Modify the lines below to experiment with different batchsize        #\n",
    "##############################################################################\n",
    "train_loader = DataLoader(train_data, batch_size=4)\n",
    "val_loader = DataLoader(val_data, batch_size=8)\n",
    "##############################################################################\n",
    "#                               END OF YOUR CODE                             #\n",
    "##############################################################################\n",
    "test_loader = DataLoader(test_data, batch_size=1)\n",
    "\n",
    "# ap_loader for calculating Average Precision\n",
    "ap_data = MSRCDataset(\"test\", one_hot=True)\n",
    "ap_loader = DataLoader(ap_data, batch_size=1)\n",
    "\n",
    "##############################################################################\n",
    "# TODO: Choose a proper optimizer for your model and set up corresponding    #\n",
    "# parameters (such as learning rate) and number of epochs.                   #\n",
    "##############################################################################\n",
    "learning_rate = 1e-3\n",
    "weight_decay = 1e-5\n",
    "num_epoch = 45  # TODO: Choose an appropriate number of training epochs\n",
    "optimizer = optim.Adam(net.parameters(), lr=learning_rate,\n",
    "                       weight_decay=weight_decay)\n",
    "##############################################################################\n",
    "#                               END OF YOUR CODE                             #\n",
    "##############################################################################\n",
    "\n",
    "print('\\nStart training')\n",
    "trn_hist = []\n",
    "val_hist = []\n",
    "net.train()\n",
    "for epoch in range(num_epoch): #TODO: Change the number of epochs\n",
    "    print('-----------------Epoch = %d-----------------' % (epoch+1))\n",
    "    trn_loss = train(train_loader, net, criterion, optimizer, device, epoch+1)\n",
    "    print('Validation loss: ')\n",
    "    val_loss = test(val_loader, net, criterion, device)\n",
    "    trn_hist.append(trn_loss)\n",
    "    val_hist.append(val_loss)\n",
    "\n",
    "net.eval()\n",
    "plot_hist(trn_hist, val_hist)\n",
    "##########################################################################\n",
    "# TODO: Submit the \"Average Precision(all classes)\" value in the report  #\n",
    "##########################################################################\n",
    "print('\\nFinished Training, Testing on test set')\n",
    "test(test_loader, net, criterion, device)\n",
    "print('\\nGenerating Unlabeled Result')\n",
    "##############################################################################\n",
    "# You can visualize your segmentation results using get_results function     #\n",
    "# Your result will be dumped in the folder 'output_test'.                    #\n",
    "# There will be three files for each image:                                  # \n",
    "#   (1) gt<num>.png (ground truth label)                                     #\n",
    "#   (2) x<num>.png (input RGB image)                                         #\n",
    "#   (3) y<num>.png (predicted output)                                        #\n",
    "#                                                                            #\n",
    "# TODO: Find a satisfactory result by running the next cell and report       #\n",
    "#       the plot of gt<num>.png, x<num>.png and y<num>.png in the pdf        #\n",
    "# Note: Your submission doesn't have to be perfect.                          #\n",
    "##############################################################################\n",
    "result = get_result(test_loader, net, device, folder='output_test')\n",
    "\n",
    "os.makedirs('./models', exist_ok=True)\n",
    "torch.save(net.state_dict(), './models/model_skiplink_{}.pth'.format(name))\n",
    "\n",
    "cal_AP(ap_loader, net, criterion, device)"
   ]
  },
  {
   "cell_type": "code",
   "execution_count": 48,
   "metadata": {
    "colab": {
     "base_uri": "https://localhost:8080/",
     "height": 362
    },
    "id": "XwYgDofP6bh9",
    "outputId": "407405d5-12f8-479d-9a0a-da086fc044f3",
    "scrolled": true
   },
   "outputs": [
    {
     "name": "stdout",
     "output_type": "stream",
     "text": [
      "image: 20\n"
     ]
    },
    {
     "data": {
      "image/png": "[encoded data removed]",
      "text/plain": [
       "<Figure size 1296x720 with 3 Axes>"
      ]
     },
     "metadata": {
      "needs_background": "light"
     },
     "output_type": "display_data"
    }
   ],
   "source": [
    "########################################################################\n",
    "# TODO: Find a satisfactory result from the 74 test images            #\n",
    "#       Submit the result in the pdf                                   #\n",
    "# Note: Your submission doesn't have to be perfect.                    #\n",
    "########################################################################\n",
    "img_idx = 20\n",
    "########################################################################\n",
    "#                             END OF YOUR CODE                         #\n",
    "########################################################################\n",
    "print(f'image: {img_idx}')\n",
    "output_dir = 'output_test'\n",
    "\n",
    "plt.subplot(1, 3, 1)\n",
    "plt.imshow(Image.open(os.path.join(output_dir, 'x{}.png'.format(img_idx))))\n",
    "plt.title('Input Image', fontsize=16)\n",
    "plt.axis('off')\n",
    "\n",
    "plt.subplot(1, 3, 2)\n",
    "plt.imshow(Image.open(os.path.join(output_dir, 'gt{}.png'.format(img_idx))))\n",
    "plt.title('Ground Truth Segmentation Map', fontsize=16)\n",
    "plt.axis('off')\n",
    "\n",
    "plt.subplot(1, 3, 3)\n",
    "plt.imshow(Image.open(os.path.join(output_dir, 'y{}.png'.format(img_idx))))\n",
    "plt.title('Predicted Segmentation Map', fontsize=16)\n",
    "plt.axis('off')\n",
    "\n",
    "plt.gcf().set_size_inches(18, 10)\n",
    "plt.show()"
   ]
  },
  {
   "cell_type": "markdown",
   "metadata": {
    "id": "e8Bz6Ic8f1m-"
   },
   "source": [
    "## Acknowledgement\n",
    "The MSR-Cambridge-v2 image dataset is downloaded from website https://www.microsoft.com/en-us/research/project/image-understanding/ and modified by 22WN EECS 442 faculty group at University of Michigan for course assginment use only"
   ]
  }
 ],
 "metadata": {
  "accelerator": "GPU",
  "colab": {
   "collapsed_sections": [],
   "name": "part3.ipynb",
   "provenance": [],
   "toc_visible": true
  },
  "kernelspec": {
   "display_name": "Python 3",
   "language": "python",
   "name": "python3"
  },
  "language_info": {
   "codemirror_mode": {
    "name": "ipython",
    "version": 3
   },
   "file_extension": ".py",
   "mimetype": "text/x-python",
   "name": "python",
   "nbconvert_exporter": "python",
   "pygments_lexer": "ipython3",
   "version": "3.8.3"
  }
 },
 "nbformat": 4,
 "nbformat_minor": 1
}
